{
 "cells": [
  {
   "cell_type": "code",
   "execution_count": 22,
   "metadata": {},
   "outputs": [],
   "source": [
    "%matplotlib inline\n",
    "import matplotlib.pyplot as plt\n",
    "import numpy as np\n",
    "import random\n",
    "import statsmodels.api as sm\n",
    "import statsmodels.stats.diagnostic as smd\n",
    "import pandas as pd\n",
    "from sklearn import datasets\n",
    "from sklearn.model_selection import train_test_split\n",
    "import seaborn as sns\n",
    "import statsmodels.api as sm\n",
    "import scipy.stats as stats\n",
    "import statsmodels.stats.diagnostic as diag\n",
    "from sklearn.naive_bayes import GaussianNB\n",
    "#Metrics\n",
    "from sklearn.metrics import make_scorer, accuracy_score,precision_score,recall_score,f1_score\n",
    "from sklearn.metrics import classification_report\n",
    "from sklearn.metrics import confusion_matrix\n",
    "from sklearn.metrics import root_mean_squared_error\n",
    "from sklearn.compose import make_column_selector as selector\n",
    "from sklearn.compose import ColumnTransformer\n",
    "from sklearn.preprocessing import StandardScaler\n",
    "from sklearn.preprocessing import OneHotEncoder\n",
    "from sklearn.pipeline import Pipeline\n",
    "from sklearn.model_selection import GridSearchCV\n",
    "\n",
    "plt.rcParams['figure.figsize'] = (15, 9)\n",
    "plt.style.use('ggplot')\n",
    "random.seed(123)"
   ]
  },
  {
   "cell_type": "code",
   "execution_count": 2,
   "metadata": {},
   "outputs": [],
   "source": [
    "carros = pd.read_csv(\"Datos/cars.csv\")"
   ]
  },
  {
   "cell_type": "markdown",
   "metadata": {},
   "source": [
    "***Número de filas:*** 205  \n",
    "***Número de atributos o columnas:*** 26 \n",
    "\n",
    "### Información de los atributos:  \n",
    "\n",
    "|Atributo:|Rango del atributo:|\n",
    "|--------:|:-------------------:|\n",
    "|1. symboling:|-3, -2, -1, 0, 1, 2, 3.|\n",
    "|2. normalized-losses:|numérico 65 hasta 256.|\n",
    "|3. make:|alfa-romero, audi, bmw, chevrolet, dodge, honda, isuzu, jaguar, mazda, mercedes-benz, mercury, mitsubishi, nissan, peugot, plymouth, porsche,  renault, saab, subaru, hastayota, volkswagen, volvo|\n",
    "|4. fuel-type:|diesel, gas.|\n",
    "|5. aspiration:|std, turbo.|\n",
    "|6. num-of-doors:|four, two.|\n",
    "|7. body-style:|hardtop, wagon, sedan, hatchback, convertible.|\n",
    "|8. drive-wheels:|4wd, fwd, rwd.|\n",
    "|9. engine-location:|front, rear.|\n",
    "|10. wheel-base:|numérico desde 86.6 hasta 120.9.|\n",
    "|11. length:|numérico desde 141.1 hasta 208.1.|\n",
    "|12. width:|numérico desde 60.3 hasta 72.3.|\n",
    "|13. height:|numérico desde 47.8 hasta 59.8.|\n",
    "|14. curb-weight:|numérico desde 1488 hasta 4066.|\n",
    "|15. engine-type:|dohc, dohcv, l, ohc, ohcf, ohcv, rotor.|\n",
    "|16. num-of-cylinders:|eight, five, four, six, three, twelve, two.|\n",
    "|17. engine-size:|numérico desde 61 to 326.|\n",
    "|18. fuel-system:|1bbl, 2bbl, 4bbl, idi, mfi, mpfi, spdi, spfi.|\n",
    "|19. bore:|numérico desde 2.54 hasta 3.94.|\n",
    "|20. stroke:|numérico desde 2.07 hasta 4.17.|\n",
    "|21. compression-ratio:|numérico desde 7 hasta 23.|\n",
    "|22. horsepower:|numérico desde 48 hasta 288.|\n",
    "|23. peak-rpm:|numérico desde 4150 hasta 6600.|\n",
    "|24. city-mpg:|numérico desde 13 hasta 49.|\n",
    "|25. highway-mpg:|numérico desde 16 hasta 54.|\n",
    "|26. price:|numérico desde 5118 hasta 45400.|\n",
    "\n"
   ]
  },
  {
   "cell_type": "markdown",
   "metadata": {},
   "source": [
    "## Variable Respuesta:\n",
    "\n",
    "La variable que se pretende predecir es el consumo por galón en ciudad (city_mpg).\n",
    "Separemos en conjuntos de entrenamiento y prueba.\n",
    "\n",
    "## Conjuntos de entrenamiento y prueba.   \n",
    "\n",
    "Se separarán en 70% de los datos en el conjunto de entrenamiento y 30% en el conjunto de prueba, usando un muestreo aleatorio simple.   "
   ]
  },
  {
   "cell_type": "code",
   "execution_count": 3,
   "metadata": {},
   "outputs": [
    {
     "data": {
      "text/plain": [
       "0        NaN\n",
       "1        NaN\n",
       "2        NaN\n",
       "3      164.0\n",
       "4      164.0\n",
       "       ...  \n",
       "200     95.0\n",
       "201     95.0\n",
       "202     95.0\n",
       "203     95.0\n",
       "204     95.0\n",
       "Name: normalized_losses, Length: 205, dtype: float64"
      ]
     },
     "execution_count": 3,
     "metadata": {},
     "output_type": "execute_result"
    }
   ],
   "source": [
    "\n",
    "carros[\"bore\"].fillna(carros[\"bore\"].median(numeric_only=True),inplace=True)\n",
    "carros[\"stroke\"].fillna(carros[\"stroke\"].median(numeric_only=True),inplace=True)\n",
    "carros[\"horsepower\"].fillna(carros[\"horsepower\"].median(numeric_only=True),inplace=True)\n",
    "carros[\"peak_rpm\"].fillna(carros[\"peak_rpm\"].median(numeric_only=True),inplace=True)\n",
    "carros[\"price\"].fillna(carros[\"price\"].median(numeric_only=True),inplace=True)\n",
    "carros.pop(\"normalized_losses\")"
   ]
  },
  {
   "cell_type": "code",
   "execution_count": 4,
   "metadata": {},
   "outputs": [],
   "source": [
    "y = carros.pop(\"city_mpg\")\n",
    "X = carros"
   ]
  },
  {
   "cell_type": "code",
   "execution_count": 10,
   "metadata": {},
   "outputs": [
    {
     "name": "stdout",
     "output_type": "stream",
     "text": [
      "(143, 24)\n",
      "(62, 24)\n",
      "(143,)\n",
      "(62,)\n"
     ]
    }
   ],
   "source": [
    "X_train, X_test,y_train, y_test = train_test_split(X, y,test_size=0.3,train_size=0.7,random_state=0)\n",
    "print(X_train.shape)\n",
    "print(X_test.shape)\n",
    "print(y_train.shape)\n",
    "print(y_test.shape)"
   ]
  },
  {
   "cell_type": "markdown",
   "metadata": {},
   "source": [
    "## Modelos\n",
    "\n",
    "### Naive Bayes\n"
   ]
  },
  {
   "cell_type": "markdown",
   "metadata": {},
   "source": [
    "Separando variables en numéricas vs categóricas"
   ]
  },
  {
   "cell_type": "code",
   "execution_count": 6,
   "metadata": {},
   "outputs": [
    {
     "name": "stdout",
     "output_type": "stream",
     "text": [
      "['make', 'fuel_type', 'aspiration', 'num_of_doors', 'body_style', 'drive_wheels', 'engine_location', 'engine_type', 'num_of_cylinders', 'fuel_system']\n",
      "['symboling', 'wheel_base', 'length', 'width', 'height', 'curb_weight', 'engine_size', 'bore', 'stroke', 'compression_ratio', 'horsepower', 'peak_rpm', 'highway_mpg', 'price']\n"
     ]
    }
   ],
   "source": [
    "numerical_columns_selector = selector(dtype_exclude=object)\n",
    "categorical_columns_selector = selector(dtype_include=object)\n",
    "\n",
    "numerical_columns = numerical_columns_selector(carros)\n",
    "categorical_columns = categorical_columns_selector(carros)\n",
    "print(categorical_columns)\n",
    "print(numerical_columns)"
   ]
  },
  {
   "cell_type": "markdown",
   "metadata": {},
   "source": [
    "Vamos a codificar las variables cualitativas con un onehot encoder y vamos a normalizar las variables cuantitativas"
   ]
  },
  {
   "cell_type": "code",
   "execution_count": 7,
   "metadata": {},
   "outputs": [],
   "source": [
    "\n",
    "\n",
    "categorical_preprocessor = OneHotEncoder(handle_unknown=\"ignore\")\n",
    "numerical_preprocessor = StandardScaler()\n",
    "preprocessor = ColumnTransformer([\n",
    "    ('one-hot-encoder', categorical_preprocessor, categorical_columns),\n",
    "    ('standar-scaler', numerical_preprocessor,numerical_columns)\n",
    "    ])\n",
    "    "
   ]
  },
  {
   "cell_type": "code",
   "execution_count": 23,
   "metadata": {},
   "outputs": [
    {
     "data": {
      "text/plain": [
       "{'memory': None,\n",
       " 'steps': [('preprocessor',\n",
       "   ColumnTransformer(transformers=[('one-hot-encoder',\n",
       "                                    OneHotEncoder(handle_unknown='ignore'),\n",
       "                                    ['make', 'fuel_type', 'aspiration',\n",
       "                                     'num_of_doors', 'body_style', 'drive_wheels',\n",
       "                                     'engine_location', 'engine_type',\n",
       "                                     'num_of_cylinders', 'fuel_system']),\n",
       "                                   ('standar-scaler', StandardScaler(),\n",
       "                                    ['symboling', 'wheel_base', 'length', 'width',\n",
       "                                     'height', 'curb_weight', 'engine_size',\n",
       "                                     'bore', 'stroke', 'compression_ratio',\n",
       "                                     'horsepower', 'peak_rpm', 'highway_mpg',\n",
       "                                     'price'])])),\n",
       "  ('regressor', GaussianNB())],\n",
       " 'verbose': False,\n",
       " 'preprocessor': ColumnTransformer(transformers=[('one-hot-encoder',\n",
       "                                  OneHotEncoder(handle_unknown='ignore'),\n",
       "                                  ['make', 'fuel_type', 'aspiration',\n",
       "                                   'num_of_doors', 'body_style', 'drive_wheels',\n",
       "                                   'engine_location', 'engine_type',\n",
       "                                   'num_of_cylinders', 'fuel_system']),\n",
       "                                 ('standar-scaler', StandardScaler(),\n",
       "                                  ['symboling', 'wheel_base', 'length', 'width',\n",
       "                                   'height', 'curb_weight', 'engine_size',\n",
       "                                   'bore', 'stroke', 'compression_ratio',\n",
       "                                   'horsepower', 'peak_rpm', 'highway_mpg',\n",
       "                                   'price'])]),\n",
       " 'regressor': GaussianNB(),\n",
       " 'preprocessor__n_jobs': None,\n",
       " 'preprocessor__remainder': 'drop',\n",
       " 'preprocessor__sparse_threshold': 0.3,\n",
       " 'preprocessor__transformer_weights': None,\n",
       " 'preprocessor__transformers': [('one-hot-encoder',\n",
       "   OneHotEncoder(handle_unknown='ignore'),\n",
       "   ['make',\n",
       "    'fuel_type',\n",
       "    'aspiration',\n",
       "    'num_of_doors',\n",
       "    'body_style',\n",
       "    'drive_wheels',\n",
       "    'engine_location',\n",
       "    'engine_type',\n",
       "    'num_of_cylinders',\n",
       "    'fuel_system']),\n",
       "  ('standar-scaler',\n",
       "   StandardScaler(),\n",
       "   ['symboling',\n",
       "    'wheel_base',\n",
       "    'length',\n",
       "    'width',\n",
       "    'height',\n",
       "    'curb_weight',\n",
       "    'engine_size',\n",
       "    'bore',\n",
       "    'stroke',\n",
       "    'compression_ratio',\n",
       "    'horsepower',\n",
       "    'peak_rpm',\n",
       "    'highway_mpg',\n",
       "    'price'])],\n",
       " 'preprocessor__verbose': False,\n",
       " 'preprocessor__verbose_feature_names_out': True,\n",
       " 'preprocessor__one-hot-encoder': OneHotEncoder(handle_unknown='ignore'),\n",
       " 'preprocessor__standar-scaler': StandardScaler(),\n",
       " 'preprocessor__one-hot-encoder__categories': 'auto',\n",
       " 'preprocessor__one-hot-encoder__drop': None,\n",
       " 'preprocessor__one-hot-encoder__dtype': numpy.float64,\n",
       " 'preprocessor__one-hot-encoder__feature_name_combiner': 'concat',\n",
       " 'preprocessor__one-hot-encoder__handle_unknown': 'ignore',\n",
       " 'preprocessor__one-hot-encoder__max_categories': None,\n",
       " 'preprocessor__one-hot-encoder__min_frequency': None,\n",
       " 'preprocessor__one-hot-encoder__sparse_output': True,\n",
       " 'preprocessor__standar-scaler__copy': True,\n",
       " 'preprocessor__standar-scaler__with_mean': True,\n",
       " 'preprocessor__standar-scaler__with_std': True,\n",
       " 'regressor__priors': None,\n",
       " 'regressor__var_smoothing': 1e-09}"
      ]
     },
     "execution_count": 23,
     "metadata": {},
     "output_type": "execute_result"
    }
   ],
   "source": [
    "#param_grid = {\"max_depth\": np.arange(2, 10, 1)}\n",
    "pipeline = Pipeline(\n",
    "    [('preprocessor',preprocessor),\n",
    "     ('regressor',GaussianNB())])\n",
    "#params = [{\n",
    "#    \"regressor__max_depth\": np.arange(2, 10, 1)\n",
    "#}]\n",
    "pipeline.get_params()"
   ]
  },
  {
   "cell_type": "markdown",
   "metadata": {},
   "source": [
    "El error es de 5.5 millas por galón aproximadamente. "
   ]
  },
  {
   "cell_type": "code",
   "execution_count": 21,
   "metadata": {},
   "outputs": [
    {
     "data": {
      "text/plain": [
       "5.497800146568889"
      ]
     },
     "execution_count": 21,
     "metadata": {},
     "output_type": "execute_result"
    }
   ],
   "source": [
    "modelo = pipeline.fit(X_train,y_train)\n",
    "y_pred = modelo.predict(X_test)\n",
    "rmse = root_mean_squared_error(y_test,y_pred)\n",
    "rmse"
   ]
  },
  {
   "cell_type": "markdown",
   "metadata": {},
   "source": [
    "Vamos a tunnear el modelo"
   ]
  },
  {
   "cell_type": "code",
   "execution_count": null,
   "metadata": {},
   "outputs": [
    {
     "name": "stderr",
     "output_type": "stream",
     "text": [
      "C:\\Users\\lgarc\\AppData\\Roaming\\Python\\Python311\\site-packages\\sklearn\\model_selection\\_split.py:737: UserWarning: The least populated class in y has only 1 members, which is less than n_splits=5.\n",
      "  warnings.warn(\n"
     ]
    },
    {
     "data": {
      "text/plain": [
       "{'regressor__var_smoothing': 0.04328761281083057}"
      ]
     },
     "execution_count": 25,
     "metadata": {},
     "output_type": "execute_result"
    }
   ],
   "source": [
    "params =  [{\n",
    "    \"regressor__var_smoothing\": np.logspace(0,-9, num=100)\n",
    "}]\n",
    "modelo = GridSearchCV(pipeline,param_grid=parag_jobs=2, cv=5,scoring=\"neg_root_mean_squared_error\")\n",
    "modelo.fit(X_train,y_train)\n",
    "modelo.best_params_"
   ]
  },
  {
   "cell_type": "markdown",
   "metadata": {},
   "source": [
    "El mejor valor es 0.043. Vamos a predecir con el mejor modelo."
   ]
  },
  {
   "cell_type": "code",
   "execution_count": 29,
   "metadata": {},
   "outputs": [
    {
     "name": "stdout",
     "output_type": "stream",
     "text": [
      "Pipeline(steps=[('preprocessor',\n",
      "                 ColumnTransformer(transformers=[('one-hot-encoder',\n",
      "                                                  OneHotEncoder(handle_unknown='ignore'),\n",
      "                                                  ['make', 'fuel_type',\n",
      "                                                   'aspiration', 'num_of_doors',\n",
      "                                                   'body_style', 'drive_wheels',\n",
      "                                                   'engine_location',\n",
      "                                                   'engine_type',\n",
      "                                                   'num_of_cylinders',\n",
      "                                                   'fuel_system']),\n",
      "                                                 ('standar-scaler',\n",
      "                                                  StandardScaler(),\n",
      "                                                  ['symboling', 'wheel_base',\n",
      "                                                   'length', 'width', 'height',\n",
      "                                                   'curb_weight', 'engine_size',\n",
      "                                                   'bore', 'stroke',\n",
      "                                                   'compression_ratio',\n",
      "                                                   'horsepower', 'peak_rpm',\n",
      "                                                   'highway_mpg', 'price'])])),\n",
      "                ('regressor', GaussianNB(var_smoothing=0.04328761281083057))])\n",
      "best score:\n",
      "-1.986186630531268\n"
     ]
    }
   ],
   "source": [
    "print(modelo.best_estimator_)\n",
    "print('best score:')\n",
    "print(modelo.best_score_)\n",
    "y_mejor_pred = modelo.best_estimator_.predict(X_test)"
   ]
  },
  {
   "cell_type": "code",
   "execution_count": 31,
   "metadata": {},
   "outputs": [
    {
     "data": {
      "text/plain": [
       "2.884888324556306"
      ]
     },
     "execution_count": 31,
     "metadata": {},
     "output_type": "execute_result"
    }
   ],
   "source": [
    "rmse_tunned = root_mean_squared_error(y_test,y_mejor_pred)\n",
    "rmse_tunned"
   ]
  },
  {
   "cell_type": "markdown",
   "metadata": {},
   "source": [
    "Como se puede observar el error del modelo que se mejoró tiene menos error medio cuadrado que el primer modelo. Por lo que sí mejoró"
   ]
  }
 ],
 "metadata": {
  "kernelspec": {
   "display_name": "Python 3",
   "language": "python",
   "name": "python3"
  },
  "language_info": {
   "codemirror_mode": {
    "name": "ipython",
    "version": 3
   },
   "file_extension": ".py",
   "mimetype": "text/x-python",
   "name": "python",
   "nbconvert_exporter": "python",
   "pygments_lexer": "ipython3",
   "version": "3.11.5"
  }
 },
 "nbformat": 4,
 "nbformat_minor": 2
}
