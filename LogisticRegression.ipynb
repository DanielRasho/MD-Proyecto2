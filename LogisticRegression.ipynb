{
 "cells": [
  {
   "cell_type": "markdown",
   "id": "4e3321ff",
   "metadata": {},
   "source": [
    "# Regresion Logística\n",
    "\n",
    "Github : https://github.com/DanielRasho/MD-Proyecto2/blob/main/LogisticRegression.ipynb\n",
    "\n",
    "- Daniel Alfredo Rayo Roldan\n",
    "- Geraro Gabriel Pineda Riveiro"
   ]
  },
  {
   "cell_type": "code",
   "execution_count": 1,
   "id": "66645dfc",
   "metadata": {},
   "outputs": [],
   "source": [
    "# Core Libraries\n",
    "import random\n",
    "import pstats\n",
    "import io\n",
    "\n",
    "\n",
    "# Data Manipulation\n",
    "import numpy as np\n",
    "import pandas as pd\n",
    "\n",
    "# Visualization\n",
    "import matplotlib.pyplot as plt\n",
    "import seaborn as sns\n",
    "\n",
    "# Statistical Analysis\n",
    "import scipy.stats as stats\n",
    "import statsmodels.api as sm\n",
    "from scipy.stats import normaltest\n",
    "\n",
    "# Machine Learning - Scikit-learn\n",
    "from sklearn import datasets, metrics, tree\n",
    "from sklearn.cluster import AgglomerativeClustering, KMeans\n",
    "from sklearn.compose import ColumnTransformer, make_column_selector as selector\n",
    "from sklearn.metrics import accuracy_score ,precision_score,recall_score,f1_score, classification_report\n",
    "from sklearn.ensemble import RandomForestClassifier, RandomForestRegressor\n",
    "from sklearn.linear_model import Ridge, RidgeCV\n",
    "from sklearn.metrics import (\n",
    "    confusion_matrix, log_loss, explained_variance_score, mean_absolute_error, ConfusionMatrixDisplay,\n",
    "    mean_squared_error, mean_squared_log_error, median_absolute_error, r2_score,accuracy_score, precision_score, recall_score, f1_score, classification_report\n",
    ")\n",
    "from sklearn.metrics import root_mean_squared_error\n",
    "from sklearn.neighbors import KNeighborsClassifier, KNeighborsRegressor\n",
    "from sklearn.model_selection import (\n",
    "    GridSearchCV, ShuffleSplit, cross_validate, train_test_split\n",
    ")\n",
    "from sklearn.pipeline import Pipeline, make_pipeline\n",
    "from sklearn.preprocessing import LabelEncoder, OneHotEncoder, StandardScaler\n",
    "from sklearn.tree import DecisionTreeClassifier, DecisionTreeRegressor, plot_tree\n",
    "from sklearn.model_selection import cross_val_score, cross_val_predict\n",
    "# Model Evaluation & Utilities\n",
    "import setuptools.dist\n",
    "from yellowbrick.regressor import ResidualsPlot\n",
    "from sklearn.linear_model import LogisticRegression\n",
    "from sklearn.model_selection import cross_val_score, learning_curve\n",
    "from sklearn.pipeline import make_pipeline\n",
    "from sklearn.preprocessing import StandardScaler\n",
    "\n",
    "# \n",
    "import cProfile\n",
    "import tracemalloc\n"
   ]
  },
  {
   "cell_type": "code",
   "execution_count": 2,
   "id": "4360902e",
   "metadata": {},
   "outputs": [
    {
     "data": {
      "application/vnd.microsoft.datawrangler.viewer.v0+json": {
       "columns": [
        {
         "name": "index",
         "rawType": "int64",
         "type": "integer"
        },
        {
         "name": "Id",
         "rawType": "int64",
         "type": "integer"
        },
        {
         "name": "MSSubClass",
         "rawType": "int64",
         "type": "integer"
        },
        {
         "name": "MSZoning",
         "rawType": "object",
         "type": "string"
        },
        {
         "name": "LotFrontage",
         "rawType": "float64",
         "type": "float"
        },
        {
         "name": "LotArea",
         "rawType": "int64",
         "type": "integer"
        },
        {
         "name": "Street",
         "rawType": "object",
         "type": "string"
        },
        {
         "name": "Alley",
         "rawType": "object",
         "type": "unknown"
        },
        {
         "name": "LotShape",
         "rawType": "object",
         "type": "string"
        },
        {
         "name": "LandContour",
         "rawType": "object",
         "type": "string"
        },
        {
         "name": "Utilities",
         "rawType": "object",
         "type": "string"
        },
        {
         "name": "LotConfig",
         "rawType": "object",
         "type": "string"
        },
        {
         "name": "LandSlope",
         "rawType": "object",
         "type": "string"
        },
        {
         "name": "Neighborhood",
         "rawType": "object",
         "type": "string"
        },
        {
         "name": "Condition1",
         "rawType": "object",
         "type": "string"
        },
        {
         "name": "Condition2",
         "rawType": "object",
         "type": "string"
        },
        {
         "name": "BldgType",
         "rawType": "object",
         "type": "string"
        },
        {
         "name": "HouseStyle",
         "rawType": "object",
         "type": "string"
        },
        {
         "name": "OverallQual",
         "rawType": "int64",
         "type": "integer"
        },
        {
         "name": "OverallCond",
         "rawType": "int64",
         "type": "integer"
        },
        {
         "name": "YearBuilt",
         "rawType": "int64",
         "type": "integer"
        },
        {
         "name": "YearRemodAdd",
         "rawType": "int64",
         "type": "integer"
        },
        {
         "name": "RoofStyle",
         "rawType": "object",
         "type": "string"
        },
        {
         "name": "RoofMatl",
         "rawType": "object",
         "type": "string"
        },
        {
         "name": "Exterior1st",
         "rawType": "object",
         "type": "string"
        },
        {
         "name": "Exterior2nd",
         "rawType": "object",
         "type": "string"
        },
        {
         "name": "MasVnrType",
         "rawType": "object",
         "type": "unknown"
        },
        {
         "name": "MasVnrArea",
         "rawType": "float64",
         "type": "float"
        },
        {
         "name": "ExterQual",
         "rawType": "object",
         "type": "string"
        },
        {
         "name": "ExterCond",
         "rawType": "object",
         "type": "string"
        },
        {
         "name": "Foundation",
         "rawType": "object",
         "type": "string"
        },
        {
         "name": "BsmtQual",
         "rawType": "object",
         "type": "string"
        },
        {
         "name": "BsmtCond",
         "rawType": "object",
         "type": "string"
        },
        {
         "name": "BsmtExposure",
         "rawType": "object",
         "type": "string"
        },
        {
         "name": "BsmtFinType1",
         "rawType": "object",
         "type": "string"
        },
        {
         "name": "BsmtFinSF1",
         "rawType": "int64",
         "type": "integer"
        },
        {
         "name": "BsmtFinType2",
         "rawType": "object",
         "type": "string"
        },
        {
         "name": "BsmtFinSF2",
         "rawType": "int64",
         "type": "integer"
        },
        {
         "name": "BsmtUnfSF",
         "rawType": "int64",
         "type": "integer"
        },
        {
         "name": "TotalBsmtSF",
         "rawType": "int64",
         "type": "integer"
        },
        {
         "name": "Heating",
         "rawType": "object",
         "type": "string"
        },
        {
         "name": "HeatingQC",
         "rawType": "object",
         "type": "string"
        },
        {
         "name": "CentralAir",
         "rawType": "object",
         "type": "string"
        },
        {
         "name": "Electrical",
         "rawType": "object",
         "type": "string"
        },
        {
         "name": "1stFlrSF",
         "rawType": "int64",
         "type": "integer"
        },
        {
         "name": "2ndFlrSF",
         "rawType": "int64",
         "type": "integer"
        },
        {
         "name": "LowQualFinSF",
         "rawType": "int64",
         "type": "integer"
        },
        {
         "name": "GrLivArea",
         "rawType": "int64",
         "type": "integer"
        },
        {
         "name": "BsmtFullBath",
         "rawType": "int64",
         "type": "integer"
        },
        {
         "name": "BsmtHalfBath",
         "rawType": "int64",
         "type": "integer"
        },
        {
         "name": "FullBath",
         "rawType": "int64",
         "type": "integer"
        },
        {
         "name": "HalfBath",
         "rawType": "int64",
         "type": "integer"
        },
        {
         "name": "BedroomAbvGr",
         "rawType": "int64",
         "type": "integer"
        },
        {
         "name": "KitchenAbvGr",
         "rawType": "int64",
         "type": "integer"
        },
        {
         "name": "KitchenQual",
         "rawType": "object",
         "type": "string"
        },
        {
         "name": "TotRmsAbvGrd",
         "rawType": "int64",
         "type": "integer"
        },
        {
         "name": "Functional",
         "rawType": "object",
         "type": "string"
        },
        {
         "name": "Fireplaces",
         "rawType": "int64",
         "type": "integer"
        },
        {
         "name": "FireplaceQu",
         "rawType": "object",
         "type": "unknown"
        },
        {
         "name": "GarageType",
         "rawType": "object",
         "type": "string"
        },
        {
         "name": "GarageYrBlt",
         "rawType": "float64",
         "type": "float"
        },
        {
         "name": "GarageFinish",
         "rawType": "object",
         "type": "string"
        },
        {
         "name": "GarageCars",
         "rawType": "int64",
         "type": "integer"
        },
        {
         "name": "GarageArea",
         "rawType": "int64",
         "type": "integer"
        },
        {
         "name": "GarageQual",
         "rawType": "object",
         "type": "string"
        },
        {
         "name": "GarageCond",
         "rawType": "object",
         "type": "string"
        },
        {
         "name": "PavedDrive",
         "rawType": "object",
         "type": "string"
        },
        {
         "name": "WoodDeckSF",
         "rawType": "int64",
         "type": "integer"
        },
        {
         "name": "OpenPorchSF",
         "rawType": "int64",
         "type": "integer"
        },
        {
         "name": "EnclosedPorch",
         "rawType": "int64",
         "type": "integer"
        },
        {
         "name": "3SsnPorch",
         "rawType": "int64",
         "type": "integer"
        },
        {
         "name": "ScreenPorch",
         "rawType": "int64",
         "type": "integer"
        },
        {
         "name": "PoolArea",
         "rawType": "int64",
         "type": "integer"
        },
        {
         "name": "PoolQC",
         "rawType": "object",
         "type": "unknown"
        },
        {
         "name": "Fence",
         "rawType": "object",
         "type": "unknown"
        },
        {
         "name": "MiscFeature",
         "rawType": "object",
         "type": "unknown"
        },
        {
         "name": "MiscVal",
         "rawType": "int64",
         "type": "integer"
        },
        {
         "name": "MoSold",
         "rawType": "int64",
         "type": "integer"
        },
        {
         "name": "YrSold",
         "rawType": "int64",
         "type": "integer"
        },
        {
         "name": "SaleType",
         "rawType": "object",
         "type": "string"
        },
        {
         "name": "SaleCondition",
         "rawType": "object",
         "type": "string"
        },
        {
         "name": "SalePrice",
         "rawType": "int64",
         "type": "integer"
        }
       ],
       "conversionMethod": "pd.DataFrame",
       "ref": "c0429c64-2930-4bf7-823d-1551a98a78bf",
       "rows": [
        [
         "0",
         "1",
         "60",
         "RL",
         "65.0",
         "8450",
         "Pave",
         null,
         "Reg",
         "Lvl",
         "AllPub",
         "Inside",
         "Gtl",
         "CollgCr",
         "Norm",
         "Norm",
         "1Fam",
         "2Story",
         "7",
         "5",
         "2003",
         "2003",
         "Gable",
         "CompShg",
         "VinylSd",
         "VinylSd",
         "BrkFace",
         "196.0",
         "Gd",
         "TA",
         "PConc",
         "Gd",
         "TA",
         "No",
         "GLQ",
         "706",
         "Unf",
         "0",
         "150",
         "856",
         "GasA",
         "Ex",
         "Y",
         "SBrkr",
         "856",
         "854",
         "0",
         "1710",
         "1",
         "0",
         "2",
         "1",
         "3",
         "1",
         "Gd",
         "8",
         "Typ",
         "0",
         null,
         "Attchd",
         "2003.0",
         "RFn",
         "2",
         "548",
         "TA",
         "TA",
         "Y",
         "0",
         "61",
         "0",
         "0",
         "0",
         "0",
         null,
         null,
         null,
         "0",
         "2",
         "2008",
         "WD",
         "Normal",
         "208500"
        ],
        [
         "1",
         "2",
         "20",
         "RL",
         "80.0",
         "9600",
         "Pave",
         null,
         "Reg",
         "Lvl",
         "AllPub",
         "FR2",
         "Gtl",
         "Veenker",
         "Feedr",
         "Norm",
         "1Fam",
         "1Story",
         "6",
         "8",
         "1976",
         "1976",
         "Gable",
         "CompShg",
         "MetalSd",
         "MetalSd",
         null,
         "0.0",
         "TA",
         "TA",
         "CBlock",
         "Gd",
         "TA",
         "Gd",
         "ALQ",
         "978",
         "Unf",
         "0",
         "284",
         "1262",
         "GasA",
         "Ex",
         "Y",
         "SBrkr",
         "1262",
         "0",
         "0",
         "1262",
         "0",
         "1",
         "2",
         "0",
         "3",
         "1",
         "TA",
         "6",
         "Typ",
         "1",
         "TA",
         "Attchd",
         "1976.0",
         "RFn",
         "2",
         "460",
         "TA",
         "TA",
         "Y",
         "298",
         "0",
         "0",
         "0",
         "0",
         "0",
         null,
         null,
         null,
         "0",
         "5",
         "2007",
         "WD",
         "Normal",
         "181500"
        ],
        [
         "2",
         "3",
         "60",
         "RL",
         "68.0",
         "11250",
         "Pave",
         null,
         "IR1",
         "Lvl",
         "AllPub",
         "Inside",
         "Gtl",
         "CollgCr",
         "Norm",
         "Norm",
         "1Fam",
         "2Story",
         "7",
         "5",
         "2001",
         "2002",
         "Gable",
         "CompShg",
         "VinylSd",
         "VinylSd",
         "BrkFace",
         "162.0",
         "Gd",
         "TA",
         "PConc",
         "Gd",
         "TA",
         "Mn",
         "GLQ",
         "486",
         "Unf",
         "0",
         "434",
         "920",
         "GasA",
         "Ex",
         "Y",
         "SBrkr",
         "920",
         "866",
         "0",
         "1786",
         "1",
         "0",
         "2",
         "1",
         "3",
         "1",
         "Gd",
         "6",
         "Typ",
         "1",
         "TA",
         "Attchd",
         "2001.0",
         "RFn",
         "2",
         "608",
         "TA",
         "TA",
         "Y",
         "0",
         "42",
         "0",
         "0",
         "0",
         "0",
         null,
         null,
         null,
         "0",
         "9",
         "2008",
         "WD",
         "Normal",
         "223500"
        ],
        [
         "3",
         "4",
         "70",
         "RL",
         "60.0",
         "9550",
         "Pave",
         null,
         "IR1",
         "Lvl",
         "AllPub",
         "Corner",
         "Gtl",
         "Crawfor",
         "Norm",
         "Norm",
         "1Fam",
         "2Story",
         "7",
         "5",
         "1915",
         "1970",
         "Gable",
         "CompShg",
         "Wd Sdng",
         "Wd Shng",
         null,
         "0.0",
         "TA",
         "TA",
         "BrkTil",
         "TA",
         "Gd",
         "No",
         "ALQ",
         "216",
         "Unf",
         "0",
         "540",
         "756",
         "GasA",
         "Gd",
         "Y",
         "SBrkr",
         "961",
         "756",
         "0",
         "1717",
         "1",
         "0",
         "1",
         "0",
         "3",
         "1",
         "Gd",
         "7",
         "Typ",
         "1",
         "Gd",
         "Detchd",
         "1998.0",
         "Unf",
         "3",
         "642",
         "TA",
         "TA",
         "Y",
         "0",
         "35",
         "272",
         "0",
         "0",
         "0",
         null,
         null,
         null,
         "0",
         "2",
         "2006",
         "WD",
         "Abnorml",
         "140000"
        ],
        [
         "4",
         "5",
         "60",
         "RL",
         "84.0",
         "14260",
         "Pave",
         null,
         "IR1",
         "Lvl",
         "AllPub",
         "FR2",
         "Gtl",
         "NoRidge",
         "Norm",
         "Norm",
         "1Fam",
         "2Story",
         "8",
         "5",
         "2000",
         "2000",
         "Gable",
         "CompShg",
         "VinylSd",
         "VinylSd",
         "BrkFace",
         "350.0",
         "Gd",
         "TA",
         "PConc",
         "Gd",
         "TA",
         "Av",
         "GLQ",
         "655",
         "Unf",
         "0",
         "490",
         "1145",
         "GasA",
         "Ex",
         "Y",
         "SBrkr",
         "1145",
         "1053",
         "0",
         "2198",
         "1",
         "0",
         "2",
         "1",
         "4",
         "1",
         "Gd",
         "9",
         "Typ",
         "1",
         "TA",
         "Attchd",
         "2000.0",
         "RFn",
         "3",
         "836",
         "TA",
         "TA",
         "Y",
         "192",
         "84",
         "0",
         "0",
         "0",
         "0",
         null,
         null,
         null,
         "0",
         "12",
         "2008",
         "WD",
         "Normal",
         "250000"
        ]
       ],
       "shape": {
        "columns": 81,
        "rows": 5
       }
      },
      "text/html": [
       "<div>\n",
       "<style scoped>\n",
       "    .dataframe tbody tr th:only-of-type {\n",
       "        vertical-align: middle;\n",
       "    }\n",
       "\n",
       "    .dataframe tbody tr th {\n",
       "        vertical-align: top;\n",
       "    }\n",
       "\n",
       "    .dataframe thead th {\n",
       "        text-align: right;\n",
       "    }\n",
       "</style>\n",
       "<table border=\"1\" class=\"dataframe\">\n",
       "  <thead>\n",
       "    <tr style=\"text-align: right;\">\n",
       "      <th></th>\n",
       "      <th>Id</th>\n",
       "      <th>MSSubClass</th>\n",
       "      <th>MSZoning</th>\n",
       "      <th>LotFrontage</th>\n",
       "      <th>LotArea</th>\n",
       "      <th>Street</th>\n",
       "      <th>Alley</th>\n",
       "      <th>LotShape</th>\n",
       "      <th>LandContour</th>\n",
       "      <th>Utilities</th>\n",
       "      <th>...</th>\n",
       "      <th>PoolArea</th>\n",
       "      <th>PoolQC</th>\n",
       "      <th>Fence</th>\n",
       "      <th>MiscFeature</th>\n",
       "      <th>MiscVal</th>\n",
       "      <th>MoSold</th>\n",
       "      <th>YrSold</th>\n",
       "      <th>SaleType</th>\n",
       "      <th>SaleCondition</th>\n",
       "      <th>SalePrice</th>\n",
       "    </tr>\n",
       "  </thead>\n",
       "  <tbody>\n",
       "    <tr>\n",
       "      <th>0</th>\n",
       "      <td>1</td>\n",
       "      <td>60</td>\n",
       "      <td>RL</td>\n",
       "      <td>65.0</td>\n",
       "      <td>8450</td>\n",
       "      <td>Pave</td>\n",
       "      <td>NaN</td>\n",
       "      <td>Reg</td>\n",
       "      <td>Lvl</td>\n",
       "      <td>AllPub</td>\n",
       "      <td>...</td>\n",
       "      <td>0</td>\n",
       "      <td>NaN</td>\n",
       "      <td>NaN</td>\n",
       "      <td>NaN</td>\n",
       "      <td>0</td>\n",
       "      <td>2</td>\n",
       "      <td>2008</td>\n",
       "      <td>WD</td>\n",
       "      <td>Normal</td>\n",
       "      <td>208500</td>\n",
       "    </tr>\n",
       "    <tr>\n",
       "      <th>1</th>\n",
       "      <td>2</td>\n",
       "      <td>20</td>\n",
       "      <td>RL</td>\n",
       "      <td>80.0</td>\n",
       "      <td>9600</td>\n",
       "      <td>Pave</td>\n",
       "      <td>NaN</td>\n",
       "      <td>Reg</td>\n",
       "      <td>Lvl</td>\n",
       "      <td>AllPub</td>\n",
       "      <td>...</td>\n",
       "      <td>0</td>\n",
       "      <td>NaN</td>\n",
       "      <td>NaN</td>\n",
       "      <td>NaN</td>\n",
       "      <td>0</td>\n",
       "      <td>5</td>\n",
       "      <td>2007</td>\n",
       "      <td>WD</td>\n",
       "      <td>Normal</td>\n",
       "      <td>181500</td>\n",
       "    </tr>\n",
       "    <tr>\n",
       "      <th>2</th>\n",
       "      <td>3</td>\n",
       "      <td>60</td>\n",
       "      <td>RL</td>\n",
       "      <td>68.0</td>\n",
       "      <td>11250</td>\n",
       "      <td>Pave</td>\n",
       "      <td>NaN</td>\n",
       "      <td>IR1</td>\n",
       "      <td>Lvl</td>\n",
       "      <td>AllPub</td>\n",
       "      <td>...</td>\n",
       "      <td>0</td>\n",
       "      <td>NaN</td>\n",
       "      <td>NaN</td>\n",
       "      <td>NaN</td>\n",
       "      <td>0</td>\n",
       "      <td>9</td>\n",
       "      <td>2008</td>\n",
       "      <td>WD</td>\n",
       "      <td>Normal</td>\n",
       "      <td>223500</td>\n",
       "    </tr>\n",
       "    <tr>\n",
       "      <th>3</th>\n",
       "      <td>4</td>\n",
       "      <td>70</td>\n",
       "      <td>RL</td>\n",
       "      <td>60.0</td>\n",
       "      <td>9550</td>\n",
       "      <td>Pave</td>\n",
       "      <td>NaN</td>\n",
       "      <td>IR1</td>\n",
       "      <td>Lvl</td>\n",
       "      <td>AllPub</td>\n",
       "      <td>...</td>\n",
       "      <td>0</td>\n",
       "      <td>NaN</td>\n",
       "      <td>NaN</td>\n",
       "      <td>NaN</td>\n",
       "      <td>0</td>\n",
       "      <td>2</td>\n",
       "      <td>2006</td>\n",
       "      <td>WD</td>\n",
       "      <td>Abnorml</td>\n",
       "      <td>140000</td>\n",
       "    </tr>\n",
       "    <tr>\n",
       "      <th>4</th>\n",
       "      <td>5</td>\n",
       "      <td>60</td>\n",
       "      <td>RL</td>\n",
       "      <td>84.0</td>\n",
       "      <td>14260</td>\n",
       "      <td>Pave</td>\n",
       "      <td>NaN</td>\n",
       "      <td>IR1</td>\n",
       "      <td>Lvl</td>\n",
       "      <td>AllPub</td>\n",
       "      <td>...</td>\n",
       "      <td>0</td>\n",
       "      <td>NaN</td>\n",
       "      <td>NaN</td>\n",
       "      <td>NaN</td>\n",
       "      <td>0</td>\n",
       "      <td>12</td>\n",
       "      <td>2008</td>\n",
       "      <td>WD</td>\n",
       "      <td>Normal</td>\n",
       "      <td>250000</td>\n",
       "    </tr>\n",
       "  </tbody>\n",
       "</table>\n",
       "<p>5 rows × 81 columns</p>\n",
       "</div>"
      ],
      "text/plain": [
       "   Id  MSSubClass MSZoning  LotFrontage  LotArea Street Alley LotShape  \\\n",
       "0   1          60       RL         65.0     8450   Pave   NaN      Reg   \n",
       "1   2          20       RL         80.0     9600   Pave   NaN      Reg   \n",
       "2   3          60       RL         68.0    11250   Pave   NaN      IR1   \n",
       "3   4          70       RL         60.0     9550   Pave   NaN      IR1   \n",
       "4   5          60       RL         84.0    14260   Pave   NaN      IR1   \n",
       "\n",
       "  LandContour Utilities  ... PoolArea PoolQC Fence MiscFeature MiscVal MoSold  \\\n",
       "0         Lvl    AllPub  ...        0    NaN   NaN         NaN       0      2   \n",
       "1         Lvl    AllPub  ...        0    NaN   NaN         NaN       0      5   \n",
       "2         Lvl    AllPub  ...        0    NaN   NaN         NaN       0      9   \n",
       "3         Lvl    AllPub  ...        0    NaN   NaN         NaN       0      2   \n",
       "4         Lvl    AllPub  ...        0    NaN   NaN         NaN       0     12   \n",
       "\n",
       "  YrSold  SaleType  SaleCondition  SalePrice  \n",
       "0   2008        WD         Normal     208500  \n",
       "1   2007        WD         Normal     181500  \n",
       "2   2008        WD         Normal     223500  \n",
       "3   2006        WD        Abnorml     140000  \n",
       "4   2008        WD         Normal     250000  \n",
       "\n",
       "[5 rows x 81 columns]"
      ]
     },
     "execution_count": 2,
     "metadata": {},
     "output_type": "execute_result"
    }
   ],
   "source": [
    "df = pd.read_csv('./data/train.csv')\n",
    "\n",
    "df.head()"
   ]
  },
  {
   "cell_type": "markdown",
   "id": "fc196155",
   "metadata": {},
   "source": [
    "## Limpieza de datos\n",
    "\n",
    "Primero, se realizó una descripción del dataset para obtener un resumen estadístico de los datos. Esto nos permite identificar la distribución de las variables, sus valores mínimos y máximos, la media, la mediana y la desviación estándar. Además, ayudó a detectar posibles valores atípicos y comprender mejor la escala de los datos antes de realizar cualquier limpieza o transformación."
   ]
  },
  {
   "cell_type": "code",
   "execution_count": 3,
   "id": "d6e34094",
   "metadata": {},
   "outputs": [
    {
     "data": {
      "application/vnd.microsoft.datawrangler.viewer.v0+json": {
       "columns": [
        {
         "name": "index",
         "rawType": "object",
         "type": "string"
        },
        {
         "name": "count",
         "rawType": "float64",
         "type": "float"
        },
        {
         "name": "mean",
         "rawType": "float64",
         "type": "float"
        },
        {
         "name": "std",
         "rawType": "float64",
         "type": "float"
        },
        {
         "name": "min",
         "rawType": "float64",
         "type": "float"
        },
        {
         "name": "25%",
         "rawType": "float64",
         "type": "float"
        },
        {
         "name": "50%",
         "rawType": "float64",
         "type": "float"
        },
        {
         "name": "75%",
         "rawType": "float64",
         "type": "float"
        },
        {
         "name": "max",
         "rawType": "float64",
         "type": "float"
        }
       ],
       "conversionMethod": "pd.DataFrame",
       "ref": "8785326a-1c48-47d5-97ce-2cde260f3b85",
       "rows": [
        [
         "Id",
         "1460.0",
         "730.5",
         "421.6100093688479",
         "1.0",
         "365.75",
         "730.5",
         "1095.25",
         "1460.0"
        ],
        [
         "MSSubClass",
         "1460.0",
         "56.897260273972606",
         "42.300570993810425",
         "20.0",
         "20.0",
         "50.0",
         "70.0",
         "190.0"
        ],
        [
         "LotFrontage",
         "1201.0",
         "70.04995836802665",
         "24.284751774483208",
         "21.0",
         "59.0",
         "69.0",
         "80.0",
         "313.0"
        ],
        [
         "LotArea",
         "1460.0",
         "10516.828082191782",
         "9981.26493237915",
         "1300.0",
         "7553.5",
         "9478.5",
         "11601.5",
         "215245.0"
        ],
        [
         "OverallQual",
         "1460.0",
         "6.0993150684931505",
         "1.3829965467415934",
         "1.0",
         "5.0",
         "6.0",
         "7.0",
         "10.0"
        ],
        [
         "OverallCond",
         "1460.0",
         "5.575342465753424",
         "1.1127993367127316",
         "1.0",
         "5.0",
         "5.0",
         "6.0",
         "9.0"
        ],
        [
         "YearBuilt",
         "1460.0",
         "1971.267808219178",
         "30.202904042525258",
         "1872.0",
         "1954.0",
         "1973.0",
         "2000.0",
         "2010.0"
        ],
        [
         "YearRemodAdd",
         "1460.0",
         "1984.8657534246574",
         "20.645406807709413",
         "1950.0",
         "1967.0",
         "1994.0",
         "2004.0",
         "2010.0"
        ],
        [
         "MasVnrArea",
         "1452.0",
         "103.68526170798899",
         "181.0662065872166",
         "0.0",
         "0.0",
         "0.0",
         "166.0",
         "1600.0"
        ],
        [
         "BsmtFinSF1",
         "1460.0",
         "443.6397260273973",
         "456.0980908409277",
         "0.0",
         "0.0",
         "383.5",
         "712.25",
         "5644.0"
        ],
        [
         "BsmtFinSF2",
         "1460.0",
         "46.54931506849315",
         "161.31927280654173",
         "0.0",
         "0.0",
         "0.0",
         "0.0",
         "1474.0"
        ],
        [
         "BsmtUnfSF",
         "1460.0",
         "567.2404109589041",
         "441.86695529243417",
         "0.0",
         "223.0",
         "477.5",
         "808.0",
         "2336.0"
        ],
        [
         "TotalBsmtSF",
         "1460.0",
         "1057.4294520547944",
         "438.7053244594708",
         "0.0",
         "795.75",
         "991.5",
         "1298.25",
         "6110.0"
        ],
        [
         "1stFlrSF",
         "1460.0",
         "1162.626712328767",
         "386.5877380410744",
         "334.0",
         "882.0",
         "1087.0",
         "1391.25",
         "4692.0"
        ],
        [
         "2ndFlrSF",
         "1460.0",
         "346.99246575342465",
         "436.5284358862568",
         "0.0",
         "0.0",
         "0.0",
         "728.0",
         "2065.0"
        ],
        [
         "LowQualFinSF",
         "1460.0",
         "5.844520547945206",
         "48.62308143352019",
         "0.0",
         "0.0",
         "0.0",
         "0.0",
         "572.0"
        ],
        [
         "GrLivArea",
         "1460.0",
         "1515.463698630137",
         "525.4803834232025",
         "334.0",
         "1129.5",
         "1464.0",
         "1776.75",
         "5642.0"
        ],
        [
         "BsmtFullBath",
         "1460.0",
         "0.42534246575342466",
         "0.5189106060898065",
         "0.0",
         "0.0",
         "0.0",
         "1.0",
         "3.0"
        ],
        [
         "BsmtHalfBath",
         "1460.0",
         "0.057534246575342465",
         "0.23875264627921178",
         "0.0",
         "0.0",
         "0.0",
         "0.0",
         "2.0"
        ],
        [
         "FullBath",
         "1460.0",
         "1.5650684931506849",
         "0.5509158012954317",
         "0.0",
         "1.0",
         "2.0",
         "2.0",
         "3.0"
        ],
        [
         "HalfBath",
         "1460.0",
         "0.38287671232876713",
         "0.5028853810928914",
         "0.0",
         "0.0",
         "0.0",
         "1.0",
         "2.0"
        ],
        [
         "BedroomAbvGr",
         "1460.0",
         "2.8664383561643834",
         "0.8157780441442284",
         "0.0",
         "2.0",
         "3.0",
         "3.0",
         "8.0"
        ],
        [
         "KitchenAbvGr",
         "1460.0",
         "1.0465753424657533",
         "0.22033819838403068",
         "0.0",
         "1.0",
         "1.0",
         "1.0",
         "3.0"
        ],
        [
         "TotRmsAbvGrd",
         "1460.0",
         "6.517808219178082",
         "1.6253932905840505",
         "2.0",
         "5.0",
         "6.0",
         "7.0",
         "14.0"
        ],
        [
         "Fireplaces",
         "1460.0",
         "0.613013698630137",
         "0.6446663863122295",
         "0.0",
         "0.0",
         "1.0",
         "1.0",
         "3.0"
        ],
        [
         "GarageYrBlt",
         "1379.0",
         "1978.5061638868744",
         "24.689724768590242",
         "1900.0",
         "1961.0",
         "1980.0",
         "2002.0",
         "2010.0"
        ],
        [
         "GarageCars",
         "1460.0",
         "1.7671232876712328",
         "0.7473150101111095",
         "0.0",
         "1.0",
         "2.0",
         "2.0",
         "4.0"
        ],
        [
         "GarageArea",
         "1460.0",
         "472.9801369863014",
         "213.80484145338042",
         "0.0",
         "334.5",
         "480.0",
         "576.0",
         "1418.0"
        ],
        [
         "WoodDeckSF",
         "1460.0",
         "94.2445205479452",
         "125.3387943517241",
         "0.0",
         "0.0",
         "0.0",
         "168.0",
         "857.0"
        ],
        [
         "OpenPorchSF",
         "1460.0",
         "46.66027397260274",
         "66.25602767664971",
         "0.0",
         "0.0",
         "25.0",
         "68.0",
         "547.0"
        ],
        [
         "EnclosedPorch",
         "1460.0",
         "21.954109589041096",
         "61.1191486017286",
         "0.0",
         "0.0",
         "0.0",
         "0.0",
         "552.0"
        ],
        [
         "3SsnPorch",
         "1460.0",
         "3.4095890410958902",
         "29.31733055678188",
         "0.0",
         "0.0",
         "0.0",
         "0.0",
         "508.0"
        ],
        [
         "ScreenPorch",
         "1460.0",
         "15.060958904109588",
         "55.757415281874174",
         "0.0",
         "0.0",
         "0.0",
         "0.0",
         "480.0"
        ],
        [
         "PoolArea",
         "1460.0",
         "2.758904109589041",
         "40.17730694453019",
         "0.0",
         "0.0",
         "0.0",
         "0.0",
         "738.0"
        ],
        [
         "MiscVal",
         "1460.0",
         "43.489041095890414",
         "496.12302445794415",
         "0.0",
         "0.0",
         "0.0",
         "0.0",
         "15500.0"
        ],
        [
         "MoSold",
         "1460.0",
         "6.321917808219178",
         "2.7036262083595126",
         "1.0",
         "5.0",
         "6.0",
         "8.0",
         "12.0"
        ],
        [
         "YrSold",
         "1460.0",
         "2007.8157534246575",
         "1.3280951205521099",
         "2006.0",
         "2007.0",
         "2008.0",
         "2009.0",
         "2010.0"
        ],
        [
         "SalePrice",
         "1460.0",
         "180921.19589041095",
         "79442.50288288662",
         "34900.0",
         "129975.0",
         "163000.0",
         "214000.0",
         "755000.0"
        ]
       ],
       "shape": {
        "columns": 8,
        "rows": 38
       }
      },
      "text/html": [
       "<div>\n",
       "<style scoped>\n",
       "    .dataframe tbody tr th:only-of-type {\n",
       "        vertical-align: middle;\n",
       "    }\n",
       "\n",
       "    .dataframe tbody tr th {\n",
       "        vertical-align: top;\n",
       "    }\n",
       "\n",
       "    .dataframe thead th {\n",
       "        text-align: right;\n",
       "    }\n",
       "</style>\n",
       "<table border=\"1\" class=\"dataframe\">\n",
       "  <thead>\n",
       "    <tr style=\"text-align: right;\">\n",
       "      <th></th>\n",
       "      <th>count</th>\n",
       "      <th>mean</th>\n",
       "      <th>std</th>\n",
       "      <th>min</th>\n",
       "      <th>25%</th>\n",
       "      <th>50%</th>\n",
       "      <th>75%</th>\n",
       "      <th>max</th>\n",
       "    </tr>\n",
       "  </thead>\n",
       "  <tbody>\n",
       "    <tr>\n",
       "      <th>Id</th>\n",
       "      <td>1460.0</td>\n",
       "      <td>730.500000</td>\n",
       "      <td>421.610009</td>\n",
       "      <td>1.0</td>\n",
       "      <td>365.75</td>\n",
       "      <td>730.5</td>\n",
       "      <td>1095.25</td>\n",
       "      <td>1460.0</td>\n",
       "    </tr>\n",
       "    <tr>\n",
       "      <th>MSSubClass</th>\n",
       "      <td>1460.0</td>\n",
       "      <td>56.897260</td>\n",
       "      <td>42.300571</td>\n",
       "      <td>20.0</td>\n",
       "      <td>20.00</td>\n",
       "      <td>50.0</td>\n",
       "      <td>70.00</td>\n",
       "      <td>190.0</td>\n",
       "    </tr>\n",
       "    <tr>\n",
       "      <th>LotFrontage</th>\n",
       "      <td>1201.0</td>\n",
       "      <td>70.049958</td>\n",
       "      <td>24.284752</td>\n",
       "      <td>21.0</td>\n",
       "      <td>59.00</td>\n",
       "      <td>69.0</td>\n",
       "      <td>80.00</td>\n",
       "      <td>313.0</td>\n",
       "    </tr>\n",
       "    <tr>\n",
       "      <th>LotArea</th>\n",
       "      <td>1460.0</td>\n",
       "      <td>10516.828082</td>\n",
       "      <td>9981.264932</td>\n",
       "      <td>1300.0</td>\n",
       "      <td>7553.50</td>\n",
       "      <td>9478.5</td>\n",
       "      <td>11601.50</td>\n",
       "      <td>215245.0</td>\n",
       "    </tr>\n",
       "    <tr>\n",
       "      <th>OverallQual</th>\n",
       "      <td>1460.0</td>\n",
       "      <td>6.099315</td>\n",
       "      <td>1.382997</td>\n",
       "      <td>1.0</td>\n",
       "      <td>5.00</td>\n",
       "      <td>6.0</td>\n",
       "      <td>7.00</td>\n",
       "      <td>10.0</td>\n",
       "    </tr>\n",
       "    <tr>\n",
       "      <th>OverallCond</th>\n",
       "      <td>1460.0</td>\n",
       "      <td>5.575342</td>\n",
       "      <td>1.112799</td>\n",
       "      <td>1.0</td>\n",
       "      <td>5.00</td>\n",
       "      <td>5.0</td>\n",
       "      <td>6.00</td>\n",
       "      <td>9.0</td>\n",
       "    </tr>\n",
       "    <tr>\n",
       "      <th>YearBuilt</th>\n",
       "      <td>1460.0</td>\n",
       "      <td>1971.267808</td>\n",
       "      <td>30.202904</td>\n",
       "      <td>1872.0</td>\n",
       "      <td>1954.00</td>\n",
       "      <td>1973.0</td>\n",
       "      <td>2000.00</td>\n",
       "      <td>2010.0</td>\n",
       "    </tr>\n",
       "    <tr>\n",
       "      <th>YearRemodAdd</th>\n",
       "      <td>1460.0</td>\n",
       "      <td>1984.865753</td>\n",
       "      <td>20.645407</td>\n",
       "      <td>1950.0</td>\n",
       "      <td>1967.00</td>\n",
       "      <td>1994.0</td>\n",
       "      <td>2004.00</td>\n",
       "      <td>2010.0</td>\n",
       "    </tr>\n",
       "    <tr>\n",
       "      <th>MasVnrArea</th>\n",
       "      <td>1452.0</td>\n",
       "      <td>103.685262</td>\n",
       "      <td>181.066207</td>\n",
       "      <td>0.0</td>\n",
       "      <td>0.00</td>\n",
       "      <td>0.0</td>\n",
       "      <td>166.00</td>\n",
       "      <td>1600.0</td>\n",
       "    </tr>\n",
       "    <tr>\n",
       "      <th>BsmtFinSF1</th>\n",
       "      <td>1460.0</td>\n",
       "      <td>443.639726</td>\n",
       "      <td>456.098091</td>\n",
       "      <td>0.0</td>\n",
       "      <td>0.00</td>\n",
       "      <td>383.5</td>\n",
       "      <td>712.25</td>\n",
       "      <td>5644.0</td>\n",
       "    </tr>\n",
       "    <tr>\n",
       "      <th>BsmtFinSF2</th>\n",
       "      <td>1460.0</td>\n",
       "      <td>46.549315</td>\n",
       "      <td>161.319273</td>\n",
       "      <td>0.0</td>\n",
       "      <td>0.00</td>\n",
       "      <td>0.0</td>\n",
       "      <td>0.00</td>\n",
       "      <td>1474.0</td>\n",
       "    </tr>\n",
       "    <tr>\n",
       "      <th>BsmtUnfSF</th>\n",
       "      <td>1460.0</td>\n",
       "      <td>567.240411</td>\n",
       "      <td>441.866955</td>\n",
       "      <td>0.0</td>\n",
       "      <td>223.00</td>\n",
       "      <td>477.5</td>\n",
       "      <td>808.00</td>\n",
       "      <td>2336.0</td>\n",
       "    </tr>\n",
       "    <tr>\n",
       "      <th>TotalBsmtSF</th>\n",
       "      <td>1460.0</td>\n",
       "      <td>1057.429452</td>\n",
       "      <td>438.705324</td>\n",
       "      <td>0.0</td>\n",
       "      <td>795.75</td>\n",
       "      <td>991.5</td>\n",
       "      <td>1298.25</td>\n",
       "      <td>6110.0</td>\n",
       "    </tr>\n",
       "    <tr>\n",
       "      <th>1stFlrSF</th>\n",
       "      <td>1460.0</td>\n",
       "      <td>1162.626712</td>\n",
       "      <td>386.587738</td>\n",
       "      <td>334.0</td>\n",
       "      <td>882.00</td>\n",
       "      <td>1087.0</td>\n",
       "      <td>1391.25</td>\n",
       "      <td>4692.0</td>\n",
       "    </tr>\n",
       "    <tr>\n",
       "      <th>2ndFlrSF</th>\n",
       "      <td>1460.0</td>\n",
       "      <td>346.992466</td>\n",
       "      <td>436.528436</td>\n",
       "      <td>0.0</td>\n",
       "      <td>0.00</td>\n",
       "      <td>0.0</td>\n",
       "      <td>728.00</td>\n",
       "      <td>2065.0</td>\n",
       "    </tr>\n",
       "    <tr>\n",
       "      <th>LowQualFinSF</th>\n",
       "      <td>1460.0</td>\n",
       "      <td>5.844521</td>\n",
       "      <td>48.623081</td>\n",
       "      <td>0.0</td>\n",
       "      <td>0.00</td>\n",
       "      <td>0.0</td>\n",
       "      <td>0.00</td>\n",
       "      <td>572.0</td>\n",
       "    </tr>\n",
       "    <tr>\n",
       "      <th>GrLivArea</th>\n",
       "      <td>1460.0</td>\n",
       "      <td>1515.463699</td>\n",
       "      <td>525.480383</td>\n",
       "      <td>334.0</td>\n",
       "      <td>1129.50</td>\n",
       "      <td>1464.0</td>\n",
       "      <td>1776.75</td>\n",
       "      <td>5642.0</td>\n",
       "    </tr>\n",
       "    <tr>\n",
       "      <th>BsmtFullBath</th>\n",
       "      <td>1460.0</td>\n",
       "      <td>0.425342</td>\n",
       "      <td>0.518911</td>\n",
       "      <td>0.0</td>\n",
       "      <td>0.00</td>\n",
       "      <td>0.0</td>\n",
       "      <td>1.00</td>\n",
       "      <td>3.0</td>\n",
       "    </tr>\n",
       "    <tr>\n",
       "      <th>BsmtHalfBath</th>\n",
       "      <td>1460.0</td>\n",
       "      <td>0.057534</td>\n",
       "      <td>0.238753</td>\n",
       "      <td>0.0</td>\n",
       "      <td>0.00</td>\n",
       "      <td>0.0</td>\n",
       "      <td>0.00</td>\n",
       "      <td>2.0</td>\n",
       "    </tr>\n",
       "    <tr>\n",
       "      <th>FullBath</th>\n",
       "      <td>1460.0</td>\n",
       "      <td>1.565068</td>\n",
       "      <td>0.550916</td>\n",
       "      <td>0.0</td>\n",
       "      <td>1.00</td>\n",
       "      <td>2.0</td>\n",
       "      <td>2.00</td>\n",
       "      <td>3.0</td>\n",
       "    </tr>\n",
       "    <tr>\n",
       "      <th>HalfBath</th>\n",
       "      <td>1460.0</td>\n",
       "      <td>0.382877</td>\n",
       "      <td>0.502885</td>\n",
       "      <td>0.0</td>\n",
       "      <td>0.00</td>\n",
       "      <td>0.0</td>\n",
       "      <td>1.00</td>\n",
       "      <td>2.0</td>\n",
       "    </tr>\n",
       "    <tr>\n",
       "      <th>BedroomAbvGr</th>\n",
       "      <td>1460.0</td>\n",
       "      <td>2.866438</td>\n",
       "      <td>0.815778</td>\n",
       "      <td>0.0</td>\n",
       "      <td>2.00</td>\n",
       "      <td>3.0</td>\n",
       "      <td>3.00</td>\n",
       "      <td>8.0</td>\n",
       "    </tr>\n",
       "    <tr>\n",
       "      <th>KitchenAbvGr</th>\n",
       "      <td>1460.0</td>\n",
       "      <td>1.046575</td>\n",
       "      <td>0.220338</td>\n",
       "      <td>0.0</td>\n",
       "      <td>1.00</td>\n",
       "      <td>1.0</td>\n",
       "      <td>1.00</td>\n",
       "      <td>3.0</td>\n",
       "    </tr>\n",
       "    <tr>\n",
       "      <th>TotRmsAbvGrd</th>\n",
       "      <td>1460.0</td>\n",
       "      <td>6.517808</td>\n",
       "      <td>1.625393</td>\n",
       "      <td>2.0</td>\n",
       "      <td>5.00</td>\n",
       "      <td>6.0</td>\n",
       "      <td>7.00</td>\n",
       "      <td>14.0</td>\n",
       "    </tr>\n",
       "    <tr>\n",
       "      <th>Fireplaces</th>\n",
       "      <td>1460.0</td>\n",
       "      <td>0.613014</td>\n",
       "      <td>0.644666</td>\n",
       "      <td>0.0</td>\n",
       "      <td>0.00</td>\n",
       "      <td>1.0</td>\n",
       "      <td>1.00</td>\n",
       "      <td>3.0</td>\n",
       "    </tr>\n",
       "    <tr>\n",
       "      <th>GarageYrBlt</th>\n",
       "      <td>1379.0</td>\n",
       "      <td>1978.506164</td>\n",
       "      <td>24.689725</td>\n",
       "      <td>1900.0</td>\n",
       "      <td>1961.00</td>\n",
       "      <td>1980.0</td>\n",
       "      <td>2002.00</td>\n",
       "      <td>2010.0</td>\n",
       "    </tr>\n",
       "    <tr>\n",
       "      <th>GarageCars</th>\n",
       "      <td>1460.0</td>\n",
       "      <td>1.767123</td>\n",
       "      <td>0.747315</td>\n",
       "      <td>0.0</td>\n",
       "      <td>1.00</td>\n",
       "      <td>2.0</td>\n",
       "      <td>2.00</td>\n",
       "      <td>4.0</td>\n",
       "    </tr>\n",
       "    <tr>\n",
       "      <th>GarageArea</th>\n",
       "      <td>1460.0</td>\n",
       "      <td>472.980137</td>\n",
       "      <td>213.804841</td>\n",
       "      <td>0.0</td>\n",
       "      <td>334.50</td>\n",
       "      <td>480.0</td>\n",
       "      <td>576.00</td>\n",
       "      <td>1418.0</td>\n",
       "    </tr>\n",
       "    <tr>\n",
       "      <th>WoodDeckSF</th>\n",
       "      <td>1460.0</td>\n",
       "      <td>94.244521</td>\n",
       "      <td>125.338794</td>\n",
       "      <td>0.0</td>\n",
       "      <td>0.00</td>\n",
       "      <td>0.0</td>\n",
       "      <td>168.00</td>\n",
       "      <td>857.0</td>\n",
       "    </tr>\n",
       "    <tr>\n",
       "      <th>OpenPorchSF</th>\n",
       "      <td>1460.0</td>\n",
       "      <td>46.660274</td>\n",
       "      <td>66.256028</td>\n",
       "      <td>0.0</td>\n",
       "      <td>0.00</td>\n",
       "      <td>25.0</td>\n",
       "      <td>68.00</td>\n",
       "      <td>547.0</td>\n",
       "    </tr>\n",
       "    <tr>\n",
       "      <th>EnclosedPorch</th>\n",
       "      <td>1460.0</td>\n",
       "      <td>21.954110</td>\n",
       "      <td>61.119149</td>\n",
       "      <td>0.0</td>\n",
       "      <td>0.00</td>\n",
       "      <td>0.0</td>\n",
       "      <td>0.00</td>\n",
       "      <td>552.0</td>\n",
       "    </tr>\n",
       "    <tr>\n",
       "      <th>3SsnPorch</th>\n",
       "      <td>1460.0</td>\n",
       "      <td>3.409589</td>\n",
       "      <td>29.317331</td>\n",
       "      <td>0.0</td>\n",
       "      <td>0.00</td>\n",
       "      <td>0.0</td>\n",
       "      <td>0.00</td>\n",
       "      <td>508.0</td>\n",
       "    </tr>\n",
       "    <tr>\n",
       "      <th>ScreenPorch</th>\n",
       "      <td>1460.0</td>\n",
       "      <td>15.060959</td>\n",
       "      <td>55.757415</td>\n",
       "      <td>0.0</td>\n",
       "      <td>0.00</td>\n",
       "      <td>0.0</td>\n",
       "      <td>0.00</td>\n",
       "      <td>480.0</td>\n",
       "    </tr>\n",
       "    <tr>\n",
       "      <th>PoolArea</th>\n",
       "      <td>1460.0</td>\n",
       "      <td>2.758904</td>\n",
       "      <td>40.177307</td>\n",
       "      <td>0.0</td>\n",
       "      <td>0.00</td>\n",
       "      <td>0.0</td>\n",
       "      <td>0.00</td>\n",
       "      <td>738.0</td>\n",
       "    </tr>\n",
       "    <tr>\n",
       "      <th>MiscVal</th>\n",
       "      <td>1460.0</td>\n",
       "      <td>43.489041</td>\n",
       "      <td>496.123024</td>\n",
       "      <td>0.0</td>\n",
       "      <td>0.00</td>\n",
       "      <td>0.0</td>\n",
       "      <td>0.00</td>\n",
       "      <td>15500.0</td>\n",
       "    </tr>\n",
       "    <tr>\n",
       "      <th>MoSold</th>\n",
       "      <td>1460.0</td>\n",
       "      <td>6.321918</td>\n",
       "      <td>2.703626</td>\n",
       "      <td>1.0</td>\n",
       "      <td>5.00</td>\n",
       "      <td>6.0</td>\n",
       "      <td>8.00</td>\n",
       "      <td>12.0</td>\n",
       "    </tr>\n",
       "    <tr>\n",
       "      <th>YrSold</th>\n",
       "      <td>1460.0</td>\n",
       "      <td>2007.815753</td>\n",
       "      <td>1.328095</td>\n",
       "      <td>2006.0</td>\n",
       "      <td>2007.00</td>\n",
       "      <td>2008.0</td>\n",
       "      <td>2009.00</td>\n",
       "      <td>2010.0</td>\n",
       "    </tr>\n",
       "    <tr>\n",
       "      <th>SalePrice</th>\n",
       "      <td>1460.0</td>\n",
       "      <td>180921.195890</td>\n",
       "      <td>79442.502883</td>\n",
       "      <td>34900.0</td>\n",
       "      <td>129975.00</td>\n",
       "      <td>163000.0</td>\n",
       "      <td>214000.00</td>\n",
       "      <td>755000.0</td>\n",
       "    </tr>\n",
       "  </tbody>\n",
       "</table>\n",
       "</div>"
      ],
      "text/plain": [
       "                count           mean           std      min        25%  \\\n",
       "Id             1460.0     730.500000    421.610009      1.0     365.75   \n",
       "MSSubClass     1460.0      56.897260     42.300571     20.0      20.00   \n",
       "LotFrontage    1201.0      70.049958     24.284752     21.0      59.00   \n",
       "LotArea        1460.0   10516.828082   9981.264932   1300.0    7553.50   \n",
       "OverallQual    1460.0       6.099315      1.382997      1.0       5.00   \n",
       "OverallCond    1460.0       5.575342      1.112799      1.0       5.00   \n",
       "YearBuilt      1460.0    1971.267808     30.202904   1872.0    1954.00   \n",
       "YearRemodAdd   1460.0    1984.865753     20.645407   1950.0    1967.00   \n",
       "MasVnrArea     1452.0     103.685262    181.066207      0.0       0.00   \n",
       "BsmtFinSF1     1460.0     443.639726    456.098091      0.0       0.00   \n",
       "BsmtFinSF2     1460.0      46.549315    161.319273      0.0       0.00   \n",
       "BsmtUnfSF      1460.0     567.240411    441.866955      0.0     223.00   \n",
       "TotalBsmtSF    1460.0    1057.429452    438.705324      0.0     795.75   \n",
       "1stFlrSF       1460.0    1162.626712    386.587738    334.0     882.00   \n",
       "2ndFlrSF       1460.0     346.992466    436.528436      0.0       0.00   \n",
       "LowQualFinSF   1460.0       5.844521     48.623081      0.0       0.00   \n",
       "GrLivArea      1460.0    1515.463699    525.480383    334.0    1129.50   \n",
       "BsmtFullBath   1460.0       0.425342      0.518911      0.0       0.00   \n",
       "BsmtHalfBath   1460.0       0.057534      0.238753      0.0       0.00   \n",
       "FullBath       1460.0       1.565068      0.550916      0.0       1.00   \n",
       "HalfBath       1460.0       0.382877      0.502885      0.0       0.00   \n",
       "BedroomAbvGr   1460.0       2.866438      0.815778      0.0       2.00   \n",
       "KitchenAbvGr   1460.0       1.046575      0.220338      0.0       1.00   \n",
       "TotRmsAbvGrd   1460.0       6.517808      1.625393      2.0       5.00   \n",
       "Fireplaces     1460.0       0.613014      0.644666      0.0       0.00   \n",
       "GarageYrBlt    1379.0    1978.506164     24.689725   1900.0    1961.00   \n",
       "GarageCars     1460.0       1.767123      0.747315      0.0       1.00   \n",
       "GarageArea     1460.0     472.980137    213.804841      0.0     334.50   \n",
       "WoodDeckSF     1460.0      94.244521    125.338794      0.0       0.00   \n",
       "OpenPorchSF    1460.0      46.660274     66.256028      0.0       0.00   \n",
       "EnclosedPorch  1460.0      21.954110     61.119149      0.0       0.00   \n",
       "3SsnPorch      1460.0       3.409589     29.317331      0.0       0.00   \n",
       "ScreenPorch    1460.0      15.060959     55.757415      0.0       0.00   \n",
       "PoolArea       1460.0       2.758904     40.177307      0.0       0.00   \n",
       "MiscVal        1460.0      43.489041    496.123024      0.0       0.00   \n",
       "MoSold         1460.0       6.321918      2.703626      1.0       5.00   \n",
       "YrSold         1460.0    2007.815753      1.328095   2006.0    2007.00   \n",
       "SalePrice      1460.0  180921.195890  79442.502883  34900.0  129975.00   \n",
       "\n",
       "                    50%        75%       max  \n",
       "Id                730.5    1095.25    1460.0  \n",
       "MSSubClass         50.0      70.00     190.0  \n",
       "LotFrontage        69.0      80.00     313.0  \n",
       "LotArea          9478.5   11601.50  215245.0  \n",
       "OverallQual         6.0       7.00      10.0  \n",
       "OverallCond         5.0       6.00       9.0  \n",
       "YearBuilt        1973.0    2000.00    2010.0  \n",
       "YearRemodAdd     1994.0    2004.00    2010.0  \n",
       "MasVnrArea          0.0     166.00    1600.0  \n",
       "BsmtFinSF1        383.5     712.25    5644.0  \n",
       "BsmtFinSF2          0.0       0.00    1474.0  \n",
       "BsmtUnfSF         477.5     808.00    2336.0  \n",
       "TotalBsmtSF       991.5    1298.25    6110.0  \n",
       "1stFlrSF         1087.0    1391.25    4692.0  \n",
       "2ndFlrSF            0.0     728.00    2065.0  \n",
       "LowQualFinSF        0.0       0.00     572.0  \n",
       "GrLivArea        1464.0    1776.75    5642.0  \n",
       "BsmtFullBath        0.0       1.00       3.0  \n",
       "BsmtHalfBath        0.0       0.00       2.0  \n",
       "FullBath            2.0       2.00       3.0  \n",
       "HalfBath            0.0       1.00       2.0  \n",
       "BedroomAbvGr        3.0       3.00       8.0  \n",
       "KitchenAbvGr        1.0       1.00       3.0  \n",
       "TotRmsAbvGrd        6.0       7.00      14.0  \n",
       "Fireplaces          1.0       1.00       3.0  \n",
       "GarageYrBlt      1980.0    2002.00    2010.0  \n",
       "GarageCars          2.0       2.00       4.0  \n",
       "GarageArea        480.0     576.00    1418.0  \n",
       "WoodDeckSF          0.0     168.00     857.0  \n",
       "OpenPorchSF        25.0      68.00     547.0  \n",
       "EnclosedPorch       0.0       0.00     552.0  \n",
       "3SsnPorch           0.0       0.00     508.0  \n",
       "ScreenPorch         0.0       0.00     480.0  \n",
       "PoolArea            0.0       0.00     738.0  \n",
       "MiscVal             0.0       0.00   15500.0  \n",
       "MoSold              6.0       8.00      12.0  \n",
       "YrSold           2008.0    2009.00    2010.0  \n",
       "SalePrice      163000.0  214000.00  755000.0  "
      ]
     },
     "execution_count": 3,
     "metadata": {},
     "output_type": "execute_result"
    }
   ],
   "source": [
    "df.describe().T"
   ]
  },
  {
   "cell_type": "code",
   "execution_count": 4,
   "id": "d2c2a642",
   "metadata": {},
   "outputs": [
    {
     "data": {
      "application/vnd.microsoft.datawrangler.viewer.v0+json": {
       "columns": [
        {
         "name": "index",
         "rawType": "int64",
         "type": "integer"
        },
        {
         "name": "Variable",
         "rawType": "object",
         "type": "string"
        },
        {
         "name": "Count",
         "rawType": "int64",
         "type": "integer"
        },
        {
         "name": "Percentage",
         "rawType": "float64",
         "type": "float"
        }
       ],
       "conversionMethod": "pd.DataFrame",
       "ref": "6534cc1d-9a04-4ca4-83fe-399135951325",
       "rows": [
        [
         "16",
         "PoolQC",
         "1453",
         "99.52054794520548"
        ],
        [
         "18",
         "MiscFeature",
         "1406",
         "96.30136986301369"
        ],
        [
         "1",
         "Alley",
         "1369",
         "93.76712328767123"
        ],
        [
         "17",
         "Fence",
         "1179",
         "80.75342465753424"
        ],
        [
         "2",
         "MasVnrType",
         "872",
         "59.726027397260275"
        ],
        [
         "10",
         "FireplaceQu",
         "690",
         "47.26027397260274"
        ],
        [
         "0",
         "LotFrontage",
         "259",
         "17.73972602739726"
        ],
        [
         "11",
         "GarageType",
         "81",
         "5.5479452054794525"
        ],
        [
         "12",
         "GarageYrBlt",
         "81",
         "5.5479452054794525"
        ],
        [
         "13",
         "GarageFinish",
         "81",
         "5.5479452054794525"
        ],
        [
         "14",
         "GarageQual",
         "81",
         "5.5479452054794525"
        ],
        [
         "15",
         "GarageCond",
         "81",
         "5.5479452054794525"
        ],
        [
         "6",
         "BsmtExposure",
         "38",
         "2.6027397260273974"
        ],
        [
         "8",
         "BsmtFinType2",
         "38",
         "2.6027397260273974"
        ],
        [
         "4",
         "BsmtQual",
         "37",
         "2.5342465753424657"
        ],
        [
         "5",
         "BsmtCond",
         "37",
         "2.5342465753424657"
        ],
        [
         "7",
         "BsmtFinType1",
         "37",
         "2.5342465753424657"
        ],
        [
         "3",
         "MasVnrArea",
         "8",
         "0.547945205479452"
        ],
        [
         "9",
         "Electrical",
         "1",
         "0.0684931506849315"
        ]
       ],
       "shape": {
        "columns": 3,
        "rows": 19
       }
      },
      "text/html": [
       "<div>\n",
       "<style scoped>\n",
       "    .dataframe tbody tr th:only-of-type {\n",
       "        vertical-align: middle;\n",
       "    }\n",
       "\n",
       "    .dataframe tbody tr th {\n",
       "        vertical-align: top;\n",
       "    }\n",
       "\n",
       "    .dataframe thead th {\n",
       "        text-align: right;\n",
       "    }\n",
       "</style>\n",
       "<table border=\"1\" class=\"dataframe\">\n",
       "  <thead>\n",
       "    <tr style=\"text-align: right;\">\n",
       "      <th></th>\n",
       "      <th>Variable</th>\n",
       "      <th>Count</th>\n",
       "      <th>Percentage</th>\n",
       "    </tr>\n",
       "  </thead>\n",
       "  <tbody>\n",
       "    <tr>\n",
       "      <th>16</th>\n",
       "      <td>PoolQC</td>\n",
       "      <td>1453</td>\n",
       "      <td>99.520548</td>\n",
       "    </tr>\n",
       "    <tr>\n",
       "      <th>18</th>\n",
       "      <td>MiscFeature</td>\n",
       "      <td>1406</td>\n",
       "      <td>96.301370</td>\n",
       "    </tr>\n",
       "    <tr>\n",
       "      <th>1</th>\n",
       "      <td>Alley</td>\n",
       "      <td>1369</td>\n",
       "      <td>93.767123</td>\n",
       "    </tr>\n",
       "    <tr>\n",
       "      <th>17</th>\n",
       "      <td>Fence</td>\n",
       "      <td>1179</td>\n",
       "      <td>80.753425</td>\n",
       "    </tr>\n",
       "    <tr>\n",
       "      <th>2</th>\n",
       "      <td>MasVnrType</td>\n",
       "      <td>872</td>\n",
       "      <td>59.726027</td>\n",
       "    </tr>\n",
       "    <tr>\n",
       "      <th>10</th>\n",
       "      <td>FireplaceQu</td>\n",
       "      <td>690</td>\n",
       "      <td>47.260274</td>\n",
       "    </tr>\n",
       "    <tr>\n",
       "      <th>0</th>\n",
       "      <td>LotFrontage</td>\n",
       "      <td>259</td>\n",
       "      <td>17.739726</td>\n",
       "    </tr>\n",
       "    <tr>\n",
       "      <th>11</th>\n",
       "      <td>GarageType</td>\n",
       "      <td>81</td>\n",
       "      <td>5.547945</td>\n",
       "    </tr>\n",
       "    <tr>\n",
       "      <th>12</th>\n",
       "      <td>GarageYrBlt</td>\n",
       "      <td>81</td>\n",
       "      <td>5.547945</td>\n",
       "    </tr>\n",
       "    <tr>\n",
       "      <th>13</th>\n",
       "      <td>GarageFinish</td>\n",
       "      <td>81</td>\n",
       "      <td>5.547945</td>\n",
       "    </tr>\n",
       "    <tr>\n",
       "      <th>14</th>\n",
       "      <td>GarageQual</td>\n",
       "      <td>81</td>\n",
       "      <td>5.547945</td>\n",
       "    </tr>\n",
       "    <tr>\n",
       "      <th>15</th>\n",
       "      <td>GarageCond</td>\n",
       "      <td>81</td>\n",
       "      <td>5.547945</td>\n",
       "    </tr>\n",
       "    <tr>\n",
       "      <th>6</th>\n",
       "      <td>BsmtExposure</td>\n",
       "      <td>38</td>\n",
       "      <td>2.602740</td>\n",
       "    </tr>\n",
       "    <tr>\n",
       "      <th>8</th>\n",
       "      <td>BsmtFinType2</td>\n",
       "      <td>38</td>\n",
       "      <td>2.602740</td>\n",
       "    </tr>\n",
       "    <tr>\n",
       "      <th>4</th>\n",
       "      <td>BsmtQual</td>\n",
       "      <td>37</td>\n",
       "      <td>2.534247</td>\n",
       "    </tr>\n",
       "    <tr>\n",
       "      <th>5</th>\n",
       "      <td>BsmtCond</td>\n",
       "      <td>37</td>\n",
       "      <td>2.534247</td>\n",
       "    </tr>\n",
       "    <tr>\n",
       "      <th>7</th>\n",
       "      <td>BsmtFinType1</td>\n",
       "      <td>37</td>\n",
       "      <td>2.534247</td>\n",
       "    </tr>\n",
       "    <tr>\n",
       "      <th>3</th>\n",
       "      <td>MasVnrArea</td>\n",
       "      <td>8</td>\n",
       "      <td>0.547945</td>\n",
       "    </tr>\n",
       "    <tr>\n",
       "      <th>9</th>\n",
       "      <td>Electrical</td>\n",
       "      <td>1</td>\n",
       "      <td>0.068493</td>\n",
       "    </tr>\n",
       "  </tbody>\n",
       "</table>\n",
       "</div>"
      ],
      "text/plain": [
       "        Variable  Count  Percentage\n",
       "16        PoolQC   1453   99.520548\n",
       "18   MiscFeature   1406   96.301370\n",
       "1          Alley   1369   93.767123\n",
       "17         Fence   1179   80.753425\n",
       "2     MasVnrType    872   59.726027\n",
       "10   FireplaceQu    690   47.260274\n",
       "0    LotFrontage    259   17.739726\n",
       "11    GarageType     81    5.547945\n",
       "12   GarageYrBlt     81    5.547945\n",
       "13  GarageFinish     81    5.547945\n",
       "14    GarageQual     81    5.547945\n",
       "15    GarageCond     81    5.547945\n",
       "6   BsmtExposure     38    2.602740\n",
       "8   BsmtFinType2     38    2.602740\n",
       "4       BsmtQual     37    2.534247\n",
       "5       BsmtCond     37    2.534247\n",
       "7   BsmtFinType1     37    2.534247\n",
       "3     MasVnrArea      8    0.547945\n",
       "9     Electrical      1    0.068493"
      ]
     },
     "execution_count": 4,
     "metadata": {},
     "output_type": "execute_result"
    }
   ],
   "source": [
    "NAValues = [(col, count, (count / len(df)) * 100) for col, count in df.isnull().sum().items() if count > 0]\n",
    "\n",
    "NAVariablesStats = pd.DataFrame(NAValues, columns=[\"Variable\", \"Count\", \"Percentage\"])\n",
    "NAVariablesStats = NAVariablesStats.sort_values(\"Count\", ascending=False)\n",
    "NAVariablesStats"
   ]
  },
  {
   "cell_type": "markdown",
   "id": "f466809d",
   "metadata": {},
   "source": [
    "### Criterios de eliminacion de columnas\n",
    "\n",
    "Dado que el dataset contiene una gran cantidad de datos, primero realizamos una búsqueda para identificar las columnas con al menos un valor nulo. Posteriormente, analizamos el porcentaje de valores faltantes en cada una de estas columnas. Si el porcentaje de datos nulos era significativo (considerado alto según nuestro criterio), decidimos eliminarlas para evitar sesgos en el análisis y mejorar la calidad de los datos.\n",
    "\n",
    "### Columas eliminadas\n",
    "Las siguientes columnas fueron eliminadas debido a su alto porcentaje de valores nulos, tanto en training como testing:\n",
    "\n",
    "* PoolQC → 99.52% de datos nulos.\n",
    "* MiscFeature → 96.30% de datos nulos.\n",
    "* Alley → 93.77% de datos nulos.\n",
    "* Fence → 80.75% de datos nulos.\n",
    "* MasVnrType → 59.73% de datos nulos.\n",
    "* FireplaceQu → 47.26% de datos nulos.\n",
    "* GarageQual → 5.55% de datos nulos.\n",
    "* Id -> Es una variable insignificante que no nos aporta nada.\n",
    "\n",
    "### Posteriormente\n",
    "\n",
    "Al ya no existir columnas con un alto numero de valores nulos, ya nos podemos deshacer de las filas que estan incompletas."
   ]
  },
  {
   "cell_type": "code",
   "execution_count": 5,
   "id": "0214645d",
   "metadata": {},
   "outputs": [
    {
     "data": {
      "text/plain": [
       "[]"
      ]
     },
     "execution_count": 5,
     "metadata": {},
     "output_type": "execute_result"
    }
   ],
   "source": [
    "# Quitar las columnas con mayor porcentaje de nulos\n",
    "df.drop(['Id', \"Alley\", \"MasVnrType\", \"FireplaceQu\", \"GarageQual\", \"PoolQC\", \"Fence\", \"MiscFeature\" ], axis=1, inplace=True)\n",
    "# Ahora ya se pueden quitar las filas con NA porque son muy pocos\n",
    "df_cleaned = df.dropna()\n",
    "\n",
    "# Asegurar que no hayan valores nulos\n",
    "NAValues = list(df_cleaned.isnull().sum() / len(df_cleaned))\n",
    "list(value for value in NAValues if value > 0)"
   ]
  },
  {
   "cell_type": "markdown",
   "id": "9b8cb92b",
   "metadata": {},
   "source": [
    "# Regresión Logística\n",
    "\n",
    "Se empezó haciendo las clasificacion categórica de precios: económicos, intermedios y caros, que después fueron codíficadas con variables dicotómicas. A continuación un ejemplo de como se ven los primeros valores para las variables respuesta."
   ]
  },
  {
   "cell_type": "code",
   "execution_count": 6,
   "id": "4823f4a0",
   "metadata": {},
   "outputs": [
    {
     "name": "stderr",
     "output_type": "stream",
     "text": [
      "/tmp/ipykernel_76647/3966717520.py:1: SettingWithCopyWarning: \n",
      "A value is trying to be set on a copy of a slice from a DataFrame.\n",
      "Try using .loc[row_indexer,col_indexer] = value instead\n",
      "\n",
      "See the caveats in the documentation: https://pandas.pydata.org/pandas-docs/stable/user_guide/indexing.html#returning-a-view-versus-a-copy\n",
      "  df_cleaned[\"SalePriceCategory\"] = pd.qcut(df_cleaned[\"SalePrice\"], q=3, labels=[\"Económico\", \"Intermedio\", \"Caro\"])\n",
      "/tmp/ipykernel_76647/3966717520.py:2: SettingWithCopyWarning: \n",
      "A value is trying to be set on a copy of a slice from a DataFrame.\n",
      "Try using .loc[row_indexer,col_indexer] = value instead\n",
      "\n",
      "See the caveats in the documentation: https://pandas.pydata.org/pandas-docs/stable/user_guide/indexing.html#returning-a-view-versus-a-copy\n",
      "  df_cleaned[\"SalePriceCategory\"] = df_cleaned[\"SalePriceCategory\"].astype(\"category\")\n",
      "/tmp/ipykernel_76647/3966717520.py:3: SettingWithCopyWarning: \n",
      "A value is trying to be set on a copy of a slice from a DataFrame.\n",
      "Try using .loc[row_indexer,col_indexer] = value instead\n",
      "\n",
      "See the caveats in the documentation: https://pandas.pydata.org/pandas-docs/stable/user_guide/indexing.html#returning-a-view-versus-a-copy\n",
      "  df_cleaned[\"TotalSF\"] = df_cleaned[\"TotalBsmtSF\"] + df_cleaned[\"1stFlrSF\"] + df_cleaned[\"2ndFlrSF\"]\n"
     ]
    },
    {
     "data": {
      "application/vnd.microsoft.datawrangler.viewer.v0+json": {
       "columns": [
        {
         "name": "index",
         "rawType": "int64",
         "type": "integer"
        },
        {
         "name": "Categoria_Económico",
         "rawType": "int64",
         "type": "integer"
        },
        {
         "name": "Categoria_Intermedio",
         "rawType": "int64",
         "type": "integer"
        },
        {
         "name": "Categoria_Caro",
         "rawType": "int64",
         "type": "integer"
        }
       ],
       "conversionMethod": "pd.DataFrame",
       "ref": "0def5ea4-0671-4280-9163-c15329c84fa7",
       "rows": [
        [
         "0",
         "0",
         "0",
         "1"
        ],
        [
         "1",
         "0",
         "1",
         "0"
        ],
        [
         "2",
         "0",
         "0",
         "1"
        ],
        [
         "3",
         "1",
         "0",
         "0"
        ],
        [
         "4",
         "0",
         "0",
         "1"
        ]
       ],
       "shape": {
        "columns": 3,
        "rows": 5
       }
      },
      "text/html": [
       "<div>\n",
       "<style scoped>\n",
       "    .dataframe tbody tr th:only-of-type {\n",
       "        vertical-align: middle;\n",
       "    }\n",
       "\n",
       "    .dataframe tbody tr th {\n",
       "        vertical-align: top;\n",
       "    }\n",
       "\n",
       "    .dataframe thead th {\n",
       "        text-align: right;\n",
       "    }\n",
       "</style>\n",
       "<table border=\"1\" class=\"dataframe\">\n",
       "  <thead>\n",
       "    <tr style=\"text-align: right;\">\n",
       "      <th></th>\n",
       "      <th>Categoria_Económico</th>\n",
       "      <th>Categoria_Intermedio</th>\n",
       "      <th>Categoria_Caro</th>\n",
       "    </tr>\n",
       "  </thead>\n",
       "  <tbody>\n",
       "    <tr>\n",
       "      <th>0</th>\n",
       "      <td>0</td>\n",
       "      <td>0</td>\n",
       "      <td>1</td>\n",
       "    </tr>\n",
       "    <tr>\n",
       "      <th>1</th>\n",
       "      <td>0</td>\n",
       "      <td>1</td>\n",
       "      <td>0</td>\n",
       "    </tr>\n",
       "    <tr>\n",
       "      <th>2</th>\n",
       "      <td>0</td>\n",
       "      <td>0</td>\n",
       "      <td>1</td>\n",
       "    </tr>\n",
       "    <tr>\n",
       "      <th>3</th>\n",
       "      <td>1</td>\n",
       "      <td>0</td>\n",
       "      <td>0</td>\n",
       "    </tr>\n",
       "    <tr>\n",
       "      <th>4</th>\n",
       "      <td>0</td>\n",
       "      <td>0</td>\n",
       "      <td>1</td>\n",
       "    </tr>\n",
       "  </tbody>\n",
       "</table>\n",
       "</div>"
      ],
      "text/plain": [
       "   Categoria_Económico  Categoria_Intermedio  Categoria_Caro\n",
       "0                    0                     0               1\n",
       "1                    0                     1               0\n",
       "2                    0                     0               1\n",
       "3                    1                     0               0\n",
       "4                    0                     0               1"
      ]
     },
     "execution_count": 6,
     "metadata": {},
     "output_type": "execute_result"
    }
   ],
   "source": [
    "df_cleaned[\"SalePriceCategory\"] = pd.qcut(df_cleaned[\"SalePrice\"], q=3, labels=[\"Económico\", \"Intermedio\", \"Caro\"])\n",
    "df_cleaned[\"SalePriceCategory\"] = df_cleaned[\"SalePriceCategory\"].astype(\"category\")\n",
    "df_cleaned[\"TotalSF\"] = df_cleaned[\"TotalBsmtSF\"] + df_cleaned[\"1stFlrSF\"] + df_cleaned[\"2ndFlrSF\"]\n",
    "\n",
    "dummies = pd.get_dummies(df_cleaned[\"SalePriceCategory\"], prefix=\"Categoria\", dtype=int)\n",
    "dummies.head()"
   ]
  },
  {
   "cell_type": "markdown",
   "id": "af008a7e",
   "metadata": {},
   "source": [
    "Del conjunto de datos original **25% serán destinados a prueba, y el 75% restantes a entrenamiento**."
   ]
  },
  {
   "cell_type": "code",
   "execution_count": 7,
   "id": "b312c7a0",
   "metadata": {},
   "outputs": [],
   "source": [
    "# Join new variables\n",
    "df_cleaned = pd.concat([df_cleaned, dummies], axis=1)\n",
    "train_set, test_set = train_test_split(df_cleaned, test_size=0.25, random_state=42, stratify=df_cleaned[\"SalePriceCategory\"])"
   ]
  },
  {
   "cell_type": "markdown",
   "id": "2a699587",
   "metadata": {},
   "source": [
    "## Análisis de multicolinealidad\n",
    "\n",
    "En entregas pasados ya se había analizado la correlación entre las variables del dataset con la variable respuesta de **el precio de las casas.**. Se decidió usar el criterio de ignorar a todas las variables que tuvieran un coeficiente de correlación de Pearson menor a 60% (r < 0.6) ya que representan las características con mayor impacto en el valor final de la propiedad. Con base en este criterio, las variables seleccionadas para entrenar el modelo son:\n",
    "\n",
    "- OverallQual\n",
    "- TotalSF\n",
    "- GarageCars\n",
    "- FullBath\n",
    "- YearRemodAdd\n",
    "- Fireplaces\n",
    "- GrLiveArea\n",
    "- TotalBsmtSF\n",
    "- GarageArea"
   ]
  },
  {
   "cell_type": "code",
   "execution_count": 8,
   "id": "71d92a31",
   "metadata": {},
   "outputs": [],
   "source": [
    "features = [\n",
    "    \"OverallQual\", \n",
    "    \"TotalSF\", \n",
    "    \"GarageCars\", \n",
    "    \"FullBath\", \n",
    "    \"YearRemodAdd\", \n",
    "    \"Fireplaces\"\n",
    "]\n",
    "\n",
    "target = \"Categoria_Caro\""
   ]
  },
  {
   "cell_type": "markdown",
   "id": "7b13a52f",
   "metadata": {},
   "source": [
    "Posteriormente se estudio la relación entre las variables seleccionadas, de las cuales algunas terminaron siendo eliminadas por ser redundantes e introducir **multicolinealidad** Por ejemplo, GrLivArea, TotalBsmtSF y 1stFlrSF ya están representadas en TotalSF, por lo que fueron descartadas. De manera similar, aunque GarageArea tiene una correlación significativa con SalePrice, se prefirió GarageCars, ya que tiene una relación más fuerte y representa mejor la capacidad del garaje. El año de construcción tambien fue ignorado a favor del año de remodelación. Al final del proceso se contó con 6 variable con la siguiente matríz de correlación:"
   ]
  },
  {
   "cell_type": "code",
   "execution_count": 9,
   "id": "2e9a4917",
   "metadata": {},
   "outputs": [
    {
     "data": {
      "image/png": "[encoded data removed]",
      "text/plain": [
       "<Figure size 1600x1200 with 2 Axes>"
      ]
     },
     "metadata": {},
     "output_type": "display_data"
    }
   ],
   "source": [
    "# One-hot encode all categorical variables\n",
    "df_encoded = pd.get_dummies(df_cleaned, drop_first=True)[features]\n",
    "\n",
    "# Compute correlation matrix on the fully numerical DataFrame\n",
    "corr_matrix = df_encoded.corr()\n",
    "\n",
    "# Plot heatmap\n",
    "plt.figure(figsize=(16, 12))\n",
    "sns.heatmap(corr_matrix, cmap='coolwarm', annot=True)\n",
    "plt.title('Correlation Matrix with One-Hot Encoded Variables')\n",
    "plt.tight_layout()\n",
    "plt.show()"
   ]
  },
  {
   "cell_type": "markdown",
   "id": "5f7ee819",
   "metadata": {},
   "source": [
    "Se puede observar que ninguna variable tenia una correlación mayor al 70%, que se puede considerar alta, pero estando trabajando con pocas variables se penaliza más la falta de información con la multicolinealidad entre 2 variables."
   ]
  },
  {
   "cell_type": "markdown",
   "id": "b993a248",
   "metadata": {},
   "source": [
    "### Entrenamiento"
   ]
  },
  {
   "cell_type": "markdown",
   "id": "56ddf06c",
   "metadata": {},
   "source": [
    "Con las variables seleccionadas del conjunto anterior se prepararon los conjuntos de prueba para contener solo las variables deseadas."
   ]
  },
  {
   "cell_type": "code",
   "execution_count": 10,
   "id": "9e2adce1",
   "metadata": {},
   "outputs": [],
   "source": [
    "X_train = train_set[features]\n",
    "y_train = train_set[target]"
   ]
  },
  {
   "cell_type": "code",
   "execution_count": 11,
   "id": "0206431e",
   "metadata": {},
   "outputs": [],
   "source": [
    "X_test = test_set[features]\n",
    "y_test = test_set[target]"
   ]
  },
  {
   "cell_type": "markdown",
   "id": "58ec004d",
   "metadata": {},
   "source": [
    "## Modelo con configuración manual\n",
    "\n",
    "Para la primera prueba se creo un modelo con hiperparámetros configurados manualmente, especificamente solo se indico un máximo de iteraciones de 1000, para el algoritmos de optimización (`max_iter=1000`)."
   ]
  },
  {
   "cell_type": "code",
   "execution_count": 12,
   "id": "fa096094",
   "metadata": {},
   "outputs": [
    {
     "name": "stdout",
     "output_type": "stream",
     "text": [
      "🔵 Accuracy de entrenamiento: 0.9159\n",
      "🟢 Accuracy de testeo:     0.9307\n",
      "              precision    recall  f1-score   support\n",
      "\n",
      "           0       0.93      0.97      0.95       182\n",
      "           1       0.93      0.86      0.89        92\n",
      "\n",
      "    accuracy                           0.93       274\n",
      "   macro avg       0.93      0.91      0.92       274\n",
      "weighted avg       0.93      0.93      0.93       274\n",
      "\n"
     ]
    }
   ],
   "source": [
    "features = [\"OverallQual\", \"TotalSF\", \"GarageCars\", \"FullBath\", \"YearRemodAdd\", \"Fireplaces\"]\n",
    "X_train = train_set[features]\n",
    "y_train = train_set[\"Categoria_Caro\"]\n",
    "X_test = test_set[features]\n",
    "y_test = test_set[\"Categoria_Caro\"]\n",
    "\n",
    "pipeline = make_pipeline(\n",
    "    StandardScaler(),\n",
    "    LogisticRegression(max_iter=1000, random_state=42)\n",
    ")\n",
    "pipeline.fit(X_train, y_train)\n",
    "\n",
    "y_train_pred = pipeline.predict(X_train)\n",
    "y_pred = pipeline.predict(X_test)\n",
    "\n",
    "y_test_pred = pipeline.predict(X_test)\n",
    "train_accuracy = accuracy_score(y_train, y_train_pred)\n",
    "test_accuracy = accuracy_score(y_test, y_test_pred)\n",
    "\n",
    "print(f\"🔵 Accuracy de entrenamiento: {train_accuracy:.4f}\")\n",
    "print(f\"🟢 Accuracy de testeo:     {test_accuracy:.4f}\")\n",
    "\n",
    "print(classification_report(y_test, y_pred, output_dict=False))"
   ]
  },
  {
   "cell_type": "code",
   "execution_count": 13,
   "id": "5ca55730",
   "metadata": {},
   "outputs": [
    {
     "name": "stdout",
     "output_type": "stream",
     "text": [
      "Optimization terminated successfully.\n",
      "         Current function value: 0.221052\n",
      "         Iterations 9\n",
      "AIC: 376.52576701740225\n",
      "BIC: 409.4908973992103\n"
     ]
    }
   ],
   "source": [
    "X_train_sm = sm.add_constant(X_train) \n",
    "model_sm = sm.Logit(y_train, X_train_sm).fit()\n",
    "\n",
    "print(\"AIC:\", model_sm.aic)\n",
    "print(\"BIC:\", model_sm.bic)"
   ]
  },
  {
   "cell_type": "markdown",
   "id": "915c84d7",
   "metadata": {},
   "source": [
    "Los resultados fueron positivos en general. El *accuracy* curiosamente fue mayor en el conjunto de testeo, lo que puede indicar que hay patrones más marcados en el conjuto de testeo, pero la diferencia se considera insignificativa (~%4). Por tanto el algoritmo **no muestra un overfitting marcado.**\n",
    "\n",
    "Por otro lado también se puede concluir que el modelo es bueno clasificando ambos tipos de categorías (precision = 95% , recall = 0.93), pero se especializa en casas no caras, al ser las que mayor soporte tienen; esto puede ser respaldado por la matriz de confusión de abajo que resumen los mismos resultados."
   ]
  },
  {
   "cell_type": "code",
   "execution_count": 14,
   "id": "7242d2b9",
   "metadata": {},
   "outputs": [
    {
     "data": {
      "image/png": "[encoded data removed]",
      "text/plain": [
       "<Figure size 600x400 with 2 Axes>"
      ]
     },
     "metadata": {},
     "output_type": "display_data"
    }
   ],
   "source": [
    "conf_matrix = confusion_matrix(y_test, y_pred)\n",
    "plt.figure(figsize=(6, 4))\n",
    "sns.heatmap(\n",
    "    conf_matrix,\n",
    "    annot=True,\n",
    "    fmt=\"d\",\n",
    "    cmap=\"Blues\",\n",
    "    xticklabels=[\"Pred: No Caro\", \"Pred: Caro\"],\n",
    "    yticklabels=[\"Real: No Caro\", \"Real: Caro\"]\n",
    ")\n",
    "plt.title(\"Matriz de Confusión\")\n",
    "plt.xlabel(\"Predicción\")\n",
    "plt.ylabel(\"Valor Real\")\n",
    "plt.tight_layout()\n",
    "plt.show()"
   ]
  },
  {
   "cell_type": "code",
   "execution_count": 15,
   "id": "e54c3dc8",
   "metadata": {},
   "outputs": [
    {
     "name": "stdout",
     "output_type": "stream",
     "text": [
      "Verdaderos negativos (No Caro bien clasificados): 176\n",
      "Falsos positivos (Predijo Caro siendo No Caro): 6\n",
      "Falsos negativos (No predijo Caro cuando sí lo era): 13\n",
      "Verdaderos positivos (Caro bien clasificados): 79\n"
     ]
    }
   ],
   "source": [
    "tn, fp, fn, tp = conf_matrix.ravel()\n",
    "\n",
    "print(f\"Verdaderos negativos (No Caro bien clasificados): {tn}\")\n",
    "print(f\"Falsos positivos (Predijo Caro siendo No Caro): {fp}\")\n",
    "print(f\"Falsos negativos (No predijo Caro cuando sí lo era): {fn}\")\n",
    "print(f\"Verdaderos positivos (Caro bien clasificados): {tp}\")"
   ]
  },
  {
   "cell_type": "markdown",
   "id": "9113ca05",
   "metadata": {},
   "source": [
    "### Profiling"
   ]
  },
  {
   "cell_type": "code",
   "execution_count": 16,
   "id": "f889a0ea",
   "metadata": {},
   "outputs": [
    {
     "name": "stdout",
     "output_type": "stream",
     "text": [
      "         4859 function calls (4781 primitive calls) in 0.017 seconds\n",
      "\n",
      "   Ordered by: cumulative time\n",
      "   List reduced from 407 to 10 due to restriction <10>\n",
      "\n",
      "   ncalls  tottime  percall  cumtime  percall filename:lineno(function)\n",
      "      3/2    0.000    0.000    0.017    0.009 /home/smaugthur/Documents/MD-Proyecto2/.venv/lib/python3.13/site-packages/IPython/core/interactiveshell.py:3631(run_code)\n",
      "      3/2    0.000    0.000    0.017    0.008 {built-in method builtins.exec}\n",
      "        1    0.000    0.000    0.017    0.017 /tmp/ipykernel_76647/1655623316.py:1(run_model)\n",
      "        1    0.000    0.000    0.010    0.010 /home/smaugthur/Documents/MD-Proyecto2/.venv/lib/python3.13/site-packages/sklearn/pipeline.py:738(predict)\n",
      "        1    0.000    0.000    0.007    0.007 /home/smaugthur/Documents/MD-Proyecto2/.venv/lib/python3.13/site-packages/sklearn/utils/_set_output.py:317(wrapped)\n",
      "        1    0.000    0.000    0.007    0.007 /home/smaugthur/Documents/MD-Proyecto2/.venv/lib/python3.13/site-packages/sklearn/utils/_param_validation.py:185(wrapper)\n",
      "       12    0.001    0.000    0.006    0.000 /home/smaugthur/Documents/MD-Proyecto2/.venv/lib/python3.13/site-packages/sklearn/utils/validation.py:736(check_array)\n",
      "        1    0.000    0.000    0.006    0.006 /home/smaugthur/Documents/MD-Proyecto2/.venv/lib/python3.13/site-packages/sklearn/metrics/_classification.py:244(confusion_matrix)\n",
      "        2    0.000    0.000    0.004    0.002 /home/smaugthur/Documents/MD-Proyecto2/.venv/lib/python3.13/site-packages/sklearn/utils/validation.py:2835(validate_data)\n",
      "        8    0.000    0.000    0.004    0.000 /home/smaugthur/Documents/MD-Proyecto2/.venv/lib/python3.13/site-packages/pandas/core/generic.py:6432(dtypes)\n",
      "\n",
      "\n",
      "\n"
     ]
    }
   ],
   "source": [
    "def run_model():\n",
    "    y_pred = pipeline.predict(X_test)\n",
    "    return confusion_matrix(y_test, y_pred)\n",
    "\n",
    "pr = cProfile.Profile()\n",
    "pr.enable()\n",
    "\n",
    "run_model()\n",
    "\n",
    "pr.disable()\n",
    "\n",
    "s = io.StringIO()\n",
    "ps = pstats.Stats(pr, stream=s).sort_stats('cumulative')\n",
    "\n",
    "ps.print_stats(10)\n",
    "\n",
    "print(s.getvalue())\n"
   ]
  },
  {
   "cell_type": "markdown",
   "id": "d2cab792",
   "metadata": {},
   "source": [
    "A partir del análisis con ``cProfile``, se puede concluir que el ``modelo 1`` es altamente eficiente en términos de tiempo de ejecución, ya que realizó 4,787 llamadas a funciones (de las cuales 4,711 fueron primitivas) en tan solo 0.007 segundos. Esto indica que el proceso de predicción es rápido y liviano, adecuado incluso para entornos donde se requiere respuesta inmediata. Además, la mayoría de las llamadas corresponden a funciones internas y operaciones de bajo nivel, lo que sugiere que no hay cuellos de botella evidentes. Por lo tanto, el modelo es eficiente no solo en precisión, sino también en rendimiento computacional."
   ]
  },
  {
   "cell_type": "code",
   "execution_count": 17,
   "id": "a79085e7",
   "metadata": {},
   "outputs": [
    {
     "name": "stdout",
     "output_type": "stream",
     "text": [
      "Uso actual de memoria: 0.00 MB; Máximo: 0.03 MB\n"
     ]
    }
   ],
   "source": [
    "tracemalloc.start()\n",
    "\n",
    "# Ejecutar predicción\n",
    "y_pred = pipeline.predict(X_test)\n",
    "\n",
    "current, peak = tracemalloc.get_traced_memory()\n",
    "print(f\"Uso actual de memoria: {current / 10**6:.2f} MB; Máximo: {peak / 10**6:.2f} MB\")\n",
    "tracemalloc.stop()\n"
   ]
  },
  {
   "cell_type": "markdown",
   "id": "8c640e39",
   "metadata": {},
   "source": [
    "Con base en el resultado del análisis de memoria, se puede concluir que el ``modelo 1`` tiene un uso de memoria muy bajo, ya que durante la predicción solo consumió un máximo de 0.03 MB. Esto indica que el modelo es liviano y eficiente."
   ]
  },
  {
   "cell_type": "markdown",
   "id": "4ed84af7",
   "metadata": {},
   "source": [
    "Este modelo no solo converge rápidamente y con buena estabilidad numérica, sino que también presenta un ajuste eficiente sin sobreajustarse, lo que refuerza su validez estadística como opción competitiva."
   ]
  },
  {
   "cell_type": "markdown",
   "id": "af9c0ffd",
   "metadata": {},
   "source": [
    "### Curvas de aprendizaje \n",
    "A continuación se observa las curvas de aprendizaje para el modelo. Podemos ver que el modelo empieza con un **accuracy** extrañamente alto (94%) que se debe derivar de la naturaleza del dataset de entrenamiento, sin embargo se puede observar como con el crecimiento de la muestra las curvas de aprendizaje de entrenamiento y prueba se estabilizan sin traslaparse totalmente, mostrando un buen nivel e ajuste."
   ]
  },
  {
   "cell_type": "code",
   "execution_count": 18,
   "id": "e64e496e",
   "metadata": {},
   "outputs": [
    {
     "data": {
      "image/png": "[encoded data removed]",
      "text/plain": [
       "<Figure size 1000x600 with 1 Axes>"
      ]
     },
     "metadata": {},
     "output_type": "display_data"
    }
   ],
   "source": [
    "# Define training sizes and get scores\n",
    "train_sizes, train_scores, test_scores = learning_curve(\n",
    "    estimator=pipeline,\n",
    "    X=pd.concat([X_train, X_test]),\n",
    "    y=pd.concat([y_train, y_test]),\n",
    "    train_sizes=np.linspace(0.1, 1.0, 10),\n",
    "    cv=5,\n",
    "    scoring='accuracy',\n",
    "    n_jobs=-1\n",
    ")\n",
    "# Compute mean and std for shaded area\n",
    "train_scores_mean = np.mean(train_scores, axis=1)\n",
    "train_scores_std  = np.std(train_scores, axis=1)\n",
    "test_scores_mean  = np.mean(test_scores, axis=1)\n",
    "test_scores_std   = np.std(test_scores, axis=1)\n",
    "\n",
    "plt.figure(figsize=(10, 6))\n",
    "plt.plot(train_sizes, train_scores_mean, 'o-', color='blue', label='accuracy de entrenamiento')\n",
    "plt.plot(train_sizes, test_scores_mean, 'o-', color='green', label='accuracy de validación')\n",
    "plt.fill_between(train_sizes, \n",
    "                 train_scores_mean - train_scores_std,\n",
    "                 train_scores_mean + train_scores_std, alpha=0.2, color='blue')\n",
    "plt.fill_between(train_sizes, \n",
    "                 test_scores_mean - test_scores_std,\n",
    "                 test_scores_mean + test_scores_std, alpha=0.2, color='green')\n",
    "\n",
    "plt.title(\"Curvas de aprendizaje - Regresión Logística manualmente ajustada\")\n",
    "plt.xlabel(\"Tamaño del set e entrenamiento\")\n",
    "plt.ylabel(\"Accuracy\")\n",
    "plt.legend(loc=\"lower right\")\n",
    "plt.grid(True)\n",
    "plt.tight_layout()\n",
    "plt.show()"
   ]
  },
  {
   "cell_type": "markdown",
   "id": "ce286fd8",
   "metadata": {},
   "source": [
    "# Modelo con ajuste de hiperparámetros\n",
    "Se utilizó el algoritmo de GridSearch para encontrar mejores parámetros para el modelo. Se mantuvo la misma *accuracy*"
   ]
  },
  {
   "cell_type": "code",
   "execution_count": 19,
   "id": "8d102ff6",
   "metadata": {},
   "outputs": [
    {
     "name": "stdout",
     "output_type": "stream",
     "text": [
      "Mejores parámetros: {'logisticregression__C': 0.1, 'logisticregression__penalty': 'l2', 'logisticregression__solver': 'lbfgs'}\n",
      "Accuracy promedio en CV: 0.9158536585365853\n"
     ]
    }
   ],
   "source": [
    "features = [\"OverallQual\", \"TotalSF\", \"GarageCars\", \"FullBath\", \"YearRemodAdd\", \"Fireplaces\"]\n",
    "X_train = train_set[features]\n",
    "y_train = train_set[\"Categoria_Caro\"]\n",
    "\n",
    "pipeline = make_pipeline(\n",
    "    StandardScaler(),\n",
    "    LogisticRegression(max_iter=1000, random_state=42)\n",
    ")\n",
    "\n",
    "param_grid = {\n",
    "    \"logisticregression__C\": [0.01, 0.1, 1, 10],\n",
    "    \"logisticregression__penalty\": [\"l2\"],\n",
    "    \"logisticregression__solver\": [\"lbfgs\", \"liblinear\"]\n",
    "}\n",
    "\n",
    "grid_search = GridSearchCV(\n",
    "    pipeline,\n",
    "    param_grid,\n",
    "    cv=5,\n",
    "    scoring=\"accuracy\",\n",
    "    n_jobs=-1\n",
    ")\n",
    "\n",
    "grid_search.fit(X_train, y_train)\n",
    "\n",
    "# Resultados\n",
    "print(\"Mejores parámetros:\", grid_search.best_params_)\n",
    "print(\"Accuracy promedio en CV:\", grid_search.best_score_)"
   ]
  },
  {
   "cell_type": "code",
   "execution_count": 20,
   "id": "390709a5",
   "metadata": {},
   "outputs": [
    {
     "data": {
      "image/png": "[encoded data removed]",
      "text/plain": [
       "<Figure size 500x400 with 2 Axes>"
      ]
     },
     "metadata": {},
     "output_type": "display_data"
    },
    {
     "name": "stdout",
     "output_type": "stream",
     "text": [
      "Accuracy en test set: 0.916058394160584\n",
      "              precision    recall  f1-score   support\n",
      "\n",
      "     No Caro       0.91      0.97      0.94       182\n",
      "        Caro       0.93      0.82      0.87        92\n",
      "\n",
      "    accuracy                           0.92       274\n",
      "   macro avg       0.92      0.89      0.90       274\n",
      "weighted avg       0.92      0.92      0.91       274\n",
      "\n"
     ]
    }
   ],
   "source": [
    "X_test = test_set[features]\n",
    "y_test = test_set[\"Categoria_Caro\"]\n",
    "\n",
    "best_model = grid_search.best_estimator_\n",
    "\n",
    "y_pred = best_model.predict(X_test)\n",
    "\n",
    "cm = confusion_matrix(y_test, y_pred)\n",
    "\n",
    "plt.figure(figsize=(5,4))\n",
    "sns.heatmap(cm, annot=True, fmt='d', cmap='Blues', xticklabels=[\"No Caro\", \"Caro\"], yticklabels=[\"No Caro\", \"Caro\"])\n",
    "plt.xlabel(\"Predicción\")\n",
    "plt.ylabel(\"Real\")\n",
    "plt.title(\"Matriz de Confusión\")\n",
    "plt.show()\n",
    "\n",
    "print(\"Accuracy en test set:\", accuracy_score(y_test, y_pred))\n",
    "print(classification_report(y_test, y_pred, target_names=[\"No Caro\", \"Caro\"]))"
   ]
  },
  {
   "cell_type": "code",
   "execution_count": 21,
   "id": "2c142391",
   "metadata": {},
   "outputs": [
    {
     "name": "stdout",
     "output_type": "stream",
     "text": [
      "Optimization terminated successfully.\n",
      "         Current function value: 0.221052\n",
      "         Iterations 9\n",
      "AIC: 376.52576701740225\n",
      "BIC: 409.4908973992103\n"
     ]
    }
   ],
   "source": [
    "X_train_sm = sm.add_constant(X_train)  \n",
    "model_sm = sm.Logit(y_train, X_train_sm).fit()\n",
    "\n",
    "print(\"AIC:\", model_sm.aic)\n",
    "print(\"BIC:\", model_sm.bic)"
   ]
  },
  {
   "cell_type": "markdown",
   "id": "ba953481",
   "metadata": {},
   "source": [
    "A simple viste este modelo no muestra una diferencia estadistica con el modelo anterior"
   ]
  },
  {
   "cell_type": "code",
   "execution_count": 22,
   "id": "a3abb991",
   "metadata": {},
   "outputs": [
    {
     "name": "stdout",
     "output_type": "stream",
     "text": [
      "Verdaderos negativos (No Caro bien clasificados): 176\n",
      "Falsos positivos (Predijo Caro siendo No Caro): 6\n",
      "Falsos negativos (No predijo Caro cuando sí lo era): 17\n",
      "Verdaderos positivos (Caro bien clasificados): 75\n"
     ]
    }
   ],
   "source": [
    "tn, fp, fn, tp = cm.ravel()\n",
    "\n",
    "print(f\"Verdaderos negativos (No Caro bien clasificados): {tn}\")\n",
    "print(f\"Falsos positivos (Predijo Caro siendo No Caro): {fp}\")\n",
    "print(f\"Falsos negativos (No predijo Caro cuando sí lo era): {fn}\")\n",
    "print(f\"Verdaderos positivos (Caro bien clasificados): {tp}\")"
   ]
  },
  {
   "cell_type": "markdown",
   "id": "0b36af4b",
   "metadata": {},
   "source": [
    "### Profiling"
   ]
  },
  {
   "cell_type": "code",
   "execution_count": 23,
   "id": "3432854c",
   "metadata": {},
   "outputs": [
    {
     "name": "stdout",
     "output_type": "stream",
     "text": [
      "         4859 function calls (4781 primitive calls) in 0.019 seconds\n",
      "\n",
      "   Ordered by: cumulative time\n",
      "   List reduced from 407 to 10 due to restriction <10>\n",
      "\n",
      "   ncalls  tottime  percall  cumtime  percall filename:lineno(function)\n",
      "      3/2    0.000    0.000    0.018    0.009 /home/smaugthur/Documents/MD-Proyecto2/.venv/lib/python3.13/site-packages/IPython/core/interactiveshell.py:3631(run_code)\n",
      "      3/2    0.000    0.000    0.018    0.009 {built-in method builtins.exec}\n",
      "        1    0.000    0.000    0.018    0.018 /tmp/ipykernel_76647/4127383625.py:1(run_model)\n",
      "        1    0.000    0.000    0.010    0.010 /home/smaugthur/Documents/MD-Proyecto2/.venv/lib/python3.13/site-packages/sklearn/pipeline.py:738(predict)\n",
      "        1    0.000    0.000    0.007    0.007 /home/smaugthur/Documents/MD-Proyecto2/.venv/lib/python3.13/site-packages/sklearn/utils/_param_validation.py:185(wrapper)\n",
      "        1    0.000    0.000    0.007    0.007 /home/smaugthur/Documents/MD-Proyecto2/.venv/lib/python3.13/site-packages/sklearn/utils/_set_output.py:317(wrapped)\n",
      "        1    0.000    0.000    0.007    0.007 /home/smaugthur/Documents/MD-Proyecto2/.venv/lib/python3.13/site-packages/sklearn/metrics/_classification.py:244(confusion_matrix)\n",
      "       12    0.001    0.000    0.006    0.001 /home/smaugthur/Documents/MD-Proyecto2/.venv/lib/python3.13/site-packages/sklearn/utils/validation.py:736(check_array)\n",
      "        2    0.000    0.000    0.004    0.002 /home/smaugthur/Documents/MD-Proyecto2/.venv/lib/python3.13/site-packages/sklearn/utils/validation.py:2835(validate_data)\n",
      "        9    0.000    0.000    0.004    0.000 /home/smaugthur/Documents/MD-Proyecto2/.venv/lib/python3.13/site-packages/pandas/core/series.py:389(__init__)\n",
      "\n",
      "\n",
      "\n"
     ]
    }
   ],
   "source": [
    "def run_model():\n",
    "    y_pred = best_model.predict(X_test)\n",
    "    return confusion_matrix(y_test, y_pred)\n",
    "\n",
    "pr = cProfile.Profile()\n",
    "pr.enable()\n",
    "\n",
    "run_model()\n",
    "\n",
    "pr.disable()\n",
    "\n",
    "s = io.StringIO()\n",
    "ps = pstats.Stats(pr, stream=s).sort_stats('cumulative')\n",
    "\n",
    "ps.print_stats(10)\n",
    "\n",
    "print(s.getvalue())"
   ]
  },
  {
   "cell_type": "markdown",
   "id": "792fb7f2",
   "metadata": {},
   "source": [
    "El ``Modelo 2`` también demuestra una excelente eficiencia computacional, ya que realizó 4,787 llamadas a funciones en tan solo 0.005 segundos, lo que es ligeramente más rápido que el modelo anterior (0.007 segundos). Esta diferencia, aunque mínima, indica que el modelo es ligeramente más ágil en su ejecución, lo que puede ser relevante en contextos donde se hacen muchas predicciones en tiempo real. Además, el número de llamadas internas es similar, lo que sugiere que ambos modelos tienen una complejidad estructural comparable. En conjunto, este resultado refuerza que este segundo modelo es también altamente eficiente, posiblemente más adecuado si se prioriza la velocidad."
   ]
  },
  {
   "cell_type": "code",
   "execution_count": 24,
   "id": "706efcad",
   "metadata": {},
   "outputs": [
    {
     "name": "stdout",
     "output_type": "stream",
     "text": [
      "Uso actual de memoria: 0.01 MB; Máximo: 0.03 MB\n"
     ]
    }
   ],
   "source": [
    "tracemalloc.start()\n",
    "\n",
    "# Ejecutar predicción\n",
    "y_pred = best_model.predict(X_test)\n",
    "\n",
    "current, peak = tracemalloc.get_traced_memory()\n",
    "print(f\"Uso actual de memoria: {current / 10**6:.2f} MB; Máximo: {peak / 10**6:.2f} MB\")\n",
    "tracemalloc.stop()"
   ]
  },
  {
   "cell_type": "markdown",
   "id": "baff2a3c",
   "metadata": {},
   "source": [
    "Con un uso máximo de memoria de solo 0.03 MB, este segundo modelo demuestra ser tan liviano como el primero en términos de consumo de recursos."
   ]
  },
  {
   "cell_type": "markdown",
   "id": "2a76b284",
   "metadata": {},
   "source": [
    "### Curvas de aprendizaje"
   ]
  },
  {
   "cell_type": "code",
   "execution_count": 25,
   "id": "846fa120",
   "metadata": {},
   "outputs": [
    {
     "data": {
      "image/png": "[encoded data removed]",
      "text/plain": [
       "<Figure size 800x600 with 1 Axes>"
      ]
     },
     "metadata": {},
     "output_type": "display_data"
    }
   ],
   "source": [
    "# Use your best pipeline from GridSearchCV\n",
    "best_model = best_model\n",
    "\n",
    "# Define training sizes to evaluate\n",
    "train_sizes, train_scores, test_scores = learning_curve(\n",
    "    best_model, X_train, y_train,\n",
    "    train_sizes=np.linspace(0.1, 1.0, 10),\n",
    "    cv=5,\n",
    "    scoring='accuracy',\n",
    "    n_jobs=-1,\n",
    "    random_state=42\n",
    ")\n",
    "\n",
    "# Calculate mean and std\n",
    "train_mean = np.mean(train_scores, axis=1)\n",
    "train_std = np.std(train_scores, axis=1)\n",
    "test_mean = np.mean(test_scores, axis=1)\n",
    "test_std = np.std(test_scores, axis=1)\n",
    "\n",
    "# Plot the learning curve\n",
    "plt.figure(figsize=(8, 6))\n",
    "plt.plot(train_sizes, train_mean, 'o-', label=\"Training accuracy\")\n",
    "plt.fill_between(train_sizes, train_mean - train_std, train_mean + train_std, alpha=0.2)\n",
    "plt.plot(train_sizes, test_mean, 'o-', label=\"Cross-validation accuracy\")\n",
    "plt.fill_between(train_sizes, test_mean - test_std, test_mean + test_std, alpha=0.2)\n",
    "\n",
    "plt.title(\"Curva de aprendizaje - Modelo con ajuste de hiperparámetros\")\n",
    "plt.xlabel(\"Tamaño del set de entrenamiento\")\n",
    "plt.ylabel(\"Accuracy\")\n",
    "plt.legend(loc=\"best\")\n",
    "plt.grid(True)\n",
    "plt.tight_layout()\n",
    "plt.show()"
   ]
  },
  {
   "cell_type": "markdown",
   "id": "cc8bc26f",
   "metadata": {},
   "source": [
    "En cuanto a las lineas de aprendizaje, se tuvo una forma parecida durante las etapas de entrenamiento y y prueba, sin que las lineas se llegaran a traslapar indicando sobreajuste."
   ]
  },
  {
   "cell_type": "markdown",
   "id": "edb9ab13",
   "metadata": {},
   "source": [
    "## Comparando modelos binarios de regresión logística\n",
    "\n",
    "#### Eficiencia\n",
    "\n",
    "| Modelo | Verdero Negativo | Falsos positivos | Falsos Negativos | Verdaderos positivos |\n",
    "| ------ | ------ | ------ | ------ | ------ |\n",
    "| Modelo sin hiperparámetros | 176  | 6 | 13 | 79 |\n",
    "| Modelo con hiperparámetros | 176 | 6 | 17 | 75 |\n",
    "\n",
    "#### Rendimiento\n",
    "| Modelo  | Tiempo de ejecución | Maximo de memoria utilizado |\n",
    "| ------ | ----- | ----- |\n",
    "| Modelo sin hiperparámetros |  0.007 |  0.03 |\n",
    "| Modelo con hiperparámetros | 0.005 | 0.03  |\n",
    "\n",
    "\n",
    "Al comparar los dos modelos, se observa que ambos tienen un rendimiento computacional muy similar, con un uso máximo de memoria de solo 0.03 MB, lo que los hace altamente eficientes y adecuados para entornos con recursos limitados. En términos de tiempo, el modelo con hiperparámetros es ligeramente más rápido (0.005 s frente a 0.007 s), aunque la diferencia es mínima. \n",
    "\n",
    "En Cuanto a la matriz de confusion, el modelo sin hiperparámetros tiene mejor desempeño predictivo, con menos falsos negativos (13 contra 17) y más verdaderos positivos (79 contra 75), lo que significa que es más eficaz para identificar correctamente la categoria “Caro”. Aunque el modelo con hiperparámetros ofrece una ligera mejora en eficiencia de ejecución, el modelo sin ajustes automáticos demuestra mejor capacidad de generalización en este caso específico, especialmente si se prioriza la detección correcta de la clase positiva.\n",
    "\n",
    "#### AIC y BIC\n",
    "\n",
    "| Modelo  | AIC  | BIC | Current function value |\n",
    "| ------ | ----- | ----- | ----- |\n",
    "| Modelo sin hiperparámetros | 376.52576701740225  | 409.4908973992103  |0.221052 |\n",
    "| Modelo con hiperparámetros | 376.52576701740225 |  409.4908973992103 |0.221052  |\n",
    "\n",
    "A partir de este cuadro se puede concluir que ambos modelos son estadísticamente equivalentes, ya que presentan los mismos valores de AIC, BIC y función objetivo. Esto indica que el ajuste del modelo no mejoró al aplicar búsqueda de hiperparámetros: la calidad del modelo y su complejidad se mantuvieron iguales. Por lo tanto, aunque el segundo modelo incluye gridSearchCV que optimiza el modelo, no aporta una mejora sustancial en términos de ajuste o simplicidad."
   ]
  },
  {
   "cell_type": "markdown",
   "id": "bdc8a909",
   "metadata": {},
   "source": [
    "## Modelo final con multiple categorías\n",
    "Los modelos anteriores fueron hechos con la intención de identificar si un módelo de regresión logística podría ser efectivo para este set de datos, y los resultados paracen indicar que es el caso, así que se creará un útimo modelo que permite clasificar clasificar en 3 categorías, al igual que modelos que se han hecho en entregas pasadas."
   ]
  },
  {
   "cell_type": "code",
   "execution_count": 26,
   "id": "88d792c6",
   "metadata": {},
   "outputs": [
    {
     "name": "stdout",
     "output_type": "stream",
     "text": [
      "Mejores parámetros encontrados: {'logisticregression__C': 100, 'logisticregression__penalty': 'l2'}\n",
      "Accuracy promedio en CV: 0.7939024390243903\n",
      "📊 AIC: 819.54\n",
      "📊 BIC: 918.44\n"
     ]
    }
   ],
   "source": [
    "y_train = train_set[\"SalePriceCategory\"]\n",
    "y_test = test_set[\"SalePriceCategory\"]\n",
    "pipeline = make_pipeline(\n",
    "    StandardScaler(),\n",
    "    LogisticRegression(solver='lbfgs', max_iter=1000, random_state=42)\n",
    ")\n",
    "param_grid = {\n",
    "    'logisticregression__C': [0.01, 0.1, 1, 10, 100],\n",
    "    'logisticregression__penalty': ['l2'],\n",
    "}\n",
    "\n",
    "grid = GridSearchCV(pipeline, param_grid, cv=5, scoring='accuracy')\n",
    "grid.fit(X_train, y_train)\n",
    "\n",
    "# RESULTS\n",
    "\n",
    "print(\"Mejores parámetros encontrados:\", grid.best_params_)\n",
    "print(\"Accuracy promedio en CV:\", grid.best_score_)\n",
    "\n",
    "best_model = grid.best_estimator_\n",
    "log_reg = best_model.named_steps[\"logisticregression\"]\n",
    "\n",
    "y_train_proba = best_model.predict_proba(X_train)\n",
    "\n",
    "log_likelihood = -log_loss(y_train, y_train_proba, normalize=False)\n",
    "\n",
    "n = X_train.shape[0]\n",
    "\n",
    "n_classes = len(np.unique(y_train))\n",
    "n_features = X_train.shape[1]\n",
    "\n",
    "k = log_reg.coef_.size + log_reg.intercept_.size\n",
    "\n",
    "aic = 2 * k - 2 * log_likelihood\n",
    "bic = np.log(n) * k - 2 * log_likelihood\n",
    "\n",
    "print(f\"📊 AIC: {aic:.2f}\")\n",
    "print(f\"📊 BIC: {bic:.2f}\")"
   ]
  },
  {
   "cell_type": "code",
   "execution_count": 27,
   "id": "8f7e654d",
   "metadata": {},
   "outputs": [
    {
     "name": "stdout",
     "output_type": "stream",
     "text": [
      "              precision    recall  f1-score   support\n",
      "\n",
      "        Caro       0.93      0.87      0.90        92\n",
      "      Medium       0.81      0.87      0.84        91\n",
      "   Económico       0.73      0.73      0.73        91\n",
      "\n",
      "    accuracy                           0.82       274\n",
      "   macro avg       0.82      0.82      0.82       274\n",
      "weighted avg       0.82      0.82      0.82       274\n",
      "\n"
     ]
    }
   ],
   "source": [
    "# Ensure y_test and y_pred are strings (if categories are like 'Caro', 'Económico', etc.)\n",
    "y_test = y_test.astype(str)\n",
    "y_pred = grid.best_estimator_.predict(X_test).astype(str)\n",
    "\n",
    "print(classification_report(y_test, y_pred, target_names=[\"Caro\", \"Medium\", \"Económico\"]))"
   ]
  },
  {
   "cell_type": "markdown",
   "id": "428f3702",
   "metadata": {},
   "source": [
    "Para este último modelo el *accuracy* disminuyo en 12% comparado a los modelos binarios anteriores, la causa puede estar dada en que los modelos de regresión logística no estan especializados en la clasificación con más de 2 categorías. También se puede concluir que el modelo se especializa en predecir casas caras (precision = 0.93), seguido de casas de costo medio (precision = 0.81), siendo las casas ecónomicas en las que peor rinde (precision = 0.73), lo cual se ve reflejado en la matriz de confusión inferior."
   ]
  },
  {
   "cell_type": "code",
   "execution_count": 28,
   "id": "c206037c",
   "metadata": {},
   "outputs": [
    {
     "data": {
      "image/png": "[encoded data removed]",
      "text/plain": [
       "<Figure size 600x600 with 2 Axes>"
      ]
     },
     "metadata": {},
     "output_type": "display_data"
    }
   ],
   "source": [
    "# Get unique classes (sorted for consistent display)\n",
    "class_labels = np.unique(np.concatenate([y_test, y_pred]))\n",
    "\n",
    "# Create the confusion matrix\n",
    "cm = confusion_matrix(y_test, y_pred, labels=class_labels)\n",
    "\n",
    "# Plot it\n",
    "disp = ConfusionMatrixDisplay(confusion_matrix=cm, display_labels=class_labels)\n",
    "fig, ax = plt.subplots(figsize=(6, 6))\n",
    "disp.plot(ax=ax, cmap='Blues', values_format='d')\n",
    "plt.title(\"Confusion Matrix\")\n",
    "plt.grid(False)\n",
    "plt.show()"
   ]
  },
  {
   "cell_type": "markdown",
   "id": "6c6c2a74",
   "metadata": {},
   "source": [
    "### Profiling"
   ]
  },
  {
   "cell_type": "code",
   "execution_count": 29,
   "id": "d77b29e0",
   "metadata": {},
   "outputs": [
    {
     "name": "stdout",
     "output_type": "stream",
     "text": [
      "         5520 function calls (5433 primitive calls) in 0.020 seconds\n",
      "\n",
      "   Ordered by: cumulative time\n",
      "   List reduced from 427 to 10 due to restriction <10>\n",
      "\n",
      "   ncalls  tottime  percall  cumtime  percall filename:lineno(function)\n",
      "        1    0.000    0.000    0.016    0.016 /home/smaugthur/Documents/MD-Proyecto2/.venv/lib/python3.13/site-packages/decorator.py:232(fun)\n",
      "      3/2    0.000    0.000    0.016    0.008 /home/smaugthur/Documents/MD-Proyecto2/.venv/lib/python3.13/site-packages/IPython/core/interactiveshell.py:3631(run_code)\n",
      "      3/2    0.000    0.000    0.016    0.008 {built-in method builtins.exec}\n",
      "      2/1    0.000    0.000    0.016    0.016 /tmp/ipykernel_76647/4127383625.py:1(run_model)\n",
      "        1    0.000    0.000    0.009    0.009 /home/smaugthur/Documents/MD-Proyecto2/.venv/lib/python3.13/site-packages/sklearn/utils/_param_validation.py:185(wrapper)\n",
      "        1    0.001    0.001    0.008    0.008 /home/smaugthur/Documents/MD-Proyecto2/.venv/lib/python3.13/site-packages/sklearn/metrics/_classification.py:244(confusion_matrix)\n",
      "      2/1    0.000    0.000    0.007    0.007 /home/smaugthur/Documents/MD-Proyecto2/.venv/lib/python3.13/site-packages/sklearn/pipeline.py:738(predict)\n",
      "    13/12    0.001    0.000    0.007    0.001 /home/smaugthur/Documents/MD-Proyecto2/.venv/lib/python3.13/site-packages/sklearn/utils/validation.py:736(check_array)\n",
      "      3/2    0.000    0.000    0.005    0.002 /home/smaugthur/Documents/MD-Proyecto2/.venv/lib/python3.13/site-packages/sklearn/utils/validation.py:2835(validate_data)\n",
      "      2/1    0.000    0.000    0.004    0.004 /home/smaugthur/Documents/MD-Proyecto2/.venv/lib/python3.13/site-packages/sklearn/utils/_set_output.py:317(wrapped)\n",
      "\n",
      "\n",
      "\n"
     ]
    }
   ],
   "source": [
    "def run_model():\n",
    "    y_pred = best_model.predict(X_test)\n",
    "    return confusion_matrix(y_test, y_pred)\n",
    "\n",
    "pr = cProfile.Profile()\n",
    "pr.enable()\n",
    "\n",
    "run_model()\n",
    "\n",
    "pr.disable()\n",
    "\n",
    "s = io.StringIO()\n",
    "ps = pstats.Stats(pr, stream=s).sort_stats('cumulative')\n",
    "\n",
    "ps.print_stats(10)\n",
    "\n",
    "print(s.getvalue())"
   ]
  },
  {
   "cell_type": "code",
   "execution_count": 30,
   "id": "a18643b6",
   "metadata": {},
   "outputs": [
    {
     "name": "stdout",
     "output_type": "stream",
     "text": [
      "Uso actual de memoria: 0.01 MB; Máximo: 0.04 MB\n"
     ]
    }
   ],
   "source": [
    "tracemalloc.start()\n",
    "\n",
    "# Ejecutar predicción\n",
    "y_pred = best_model.predict(X_test)\n",
    "\n",
    "current, peak = tracemalloc.get_traced_memory()\n",
    "print(f\"Uso actual de memoria: {current / 10**6:.2f} MB; Máximo: {peak / 10**6:.2f} MB\")\n",
    "tracemalloc.stop()"
   ]
  },
  {
   "cell_type": "markdown",
   "id": "c2c6ef10",
   "metadata": {},
   "source": [
    "Este último modelo al ser más complejo requierio de más llamadas de funciones (5642) y tomó considerablemente más tiempo en entrenarse (0.023s), hecho que tiene sentido considernado que este modelo es más complejo al poder categorizar los tres tipos de precios, y que dentro de la implementación realmente consta de 3 modelos que cooperan entre ellos para decidir la mejor categoría."
   ]
  },
  {
   "cell_type": "markdown",
   "id": "aeaa8214",
   "metadata": {},
   "source": [
    "### Curvas de aprendizaje\n",
    "Por último las curvas de aprendizaje muestran un buen ajuste a la distribución de los datos, al tener comportamientos muy cercanos entre el set de entrenamiento y testeo, es posible que con una mayor cantidad de observaciones se pueda mejorar la precisión del modelo."
   ]
  },
  {
   "cell_type": "code",
   "execution_count": 31,
   "id": "b1f1399f",
   "metadata": {},
   "outputs": [
    {
     "name": "stderr",
     "output_type": "stream",
     "text": [
      "/tmp/ipykernel_76647/843679077.py:32: UserWarning: Glyph 128200 (\\N{CHART WITH UPWARDS TREND}) missing from font(s) Liberation Sans.\n",
      "  plt.tight_layout()\n",
      "/home/smaugthur/Documents/MD-Proyecto2/.venv/lib/python3.13/site-packages/IPython/core/pylabtools.py:170: UserWarning: Glyph 128200 (\\N{CHART WITH UPWARDS TREND}) missing from font(s) Liberation Sans.\n",
      "  fig.canvas.print_figure(bytes_io, **kw)\n"
     ]
    },
    {
     "data": {
      "image/png": "[encoded data removed]",
      "text/plain": [
       "<Figure size 800x600 with 1 Axes>"
      ]
     },
     "metadata": {},
     "output_type": "display_data"
    }
   ],
   "source": [
    "# Use your best pipeline from GridSearchCV\n",
    "best_model = best_model\n",
    "\n",
    "# Define training sizes to evaluate\n",
    "train_sizes, train_scores, test_scores = learning_curve(\n",
    "    best_model, X_train, y_train,\n",
    "    train_sizes=np.linspace(0.1, 1.0, 10),\n",
    "    cv=5,\n",
    "    scoring='accuracy',\n",
    "    n_jobs=-1,\n",
    "    random_state=42\n",
    ")\n",
    "\n",
    "# Calculate mean and std\n",
    "train_mean = np.mean(train_scores, axis=1)\n",
    "train_std = np.std(train_scores, axis=1)\n",
    "test_mean = np.mean(test_scores, axis=1)\n",
    "test_std = np.std(test_scores, axis=1)\n",
    "\n",
    "# Plot the learning curve\n",
    "plt.figure(figsize=(8, 6))\n",
    "plt.plot(train_sizes, train_mean, 'o-', label=\"Training accuracy\")\n",
    "plt.fill_between(train_sizes, train_mean - train_std, train_mean + train_std, alpha=0.2)\n",
    "plt.plot(train_sizes, test_mean, 'o-', label=\"Cross-validation accuracy\")\n",
    "plt.fill_between(train_sizes, test_mean - test_std, test_mean + test_std, alpha=0.2)\n",
    "\n",
    "plt.title(\"📈 Learning Curve\")\n",
    "plt.xlabel(\"Training Set Size\")\n",
    "plt.ylabel(\"Accuracy\")\n",
    "plt.legend(loc=\"best\")\n",
    "plt.grid(True)\n",
    "plt.tight_layout()\n",
    "plt.show()"
   ]
  },
  {
   "cell_type": "markdown",
   "id": "7b4b4ca5",
   "metadata": {},
   "source": [
    "# Conclusiones\n",
    "\n",
    "Los primeros 2 modelos de regresión logística binaria tuvieron resultados bastante positivos (accuracy = 0.93) y tiempos de ejecución bajos (0.005s el modelo 2) al clasificar si las casas se podían considerar caras o no, parte de este rendimiento se cree es debido es la naturaleza binaria de una regresión logística, sin embargo para poder comparar este modelo con los hecho en entregas pasadas, se hizo una variación que utilizaba multiclases para poder tener la misma variable respuesta. Las comparaciones se muestran a continuación.\n",
    "\n",
    "### Comparación modelos de clasificación\n",
    "\n",
    "| Modelo | Accuracy | Precision | recall |\n",
    "|--------|----------|-----------|--------|\n",
    "| Mejor árbol de clasificación |0.793 |0.792| 0.793|\n",
    "| Random forest de clasificación | 0.830|0.832|0.830|\n",
    "| Naive Bayes Clasificación | 0.676 | 0.669 | 0.676 |\n",
    "| Naive Bayes Clasificación Optimizado | 0.680 | 0.675, | 0.680 |\n",
    "| Regresión Logística | 0.79 | 0.82 | 0.82 |\n",
    "\n",
    "El análisis de los diferentes modelos de clasificación muestra que el Random Forest de Clasificación es el más efectivo, con una Acurracy de 0.830, una precisión de 0.832 y una sensibilidad de 0.830. Seguido de cerca del modelo de regresión logística que se entreno en el presente reporte (accuracy = 0.79 y sensibilidad = 0.83). En este caso, la validación cruzada no fue de mucha ayuda para la regresión logistica, debido a que el modelo no mejoró significativamente el **accuracy**, aunque si ligeramente la eficiencia.\n",
    "\n",
    "Es importante notar que los modelos binarios de regresión logística tuvieron mejores resultados que los mostrados entre los modelos comparados, se puede concluir entonces que esta técnica puede ser altamente eficaz para problemas dicotómicos."
   ]
  }
 ],
 "metadata": {
  "kernelspec": {
   "display_name": ".venv",
   "language": "python",
   "name": "python3"
  },
  "language_info": {
   "codemirror_mode": {
    "name": "ipython",
    "version": 3
   },
   "file_extension": ".py",
   "mimetype": "text/x-python",
   "name": "python",
   "nbconvert_exporter": "python",
   "pygments_lexer": "ipython3",
   "version": "3.13.2"
  }
 },
 "nbformat": 4,
 "nbformat_minor": 5
}
